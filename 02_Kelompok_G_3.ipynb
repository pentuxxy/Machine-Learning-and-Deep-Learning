{
  "cells": [
    {
      "cell_type": "markdown",
      "metadata": {
        "id": "view-in-github",
        "colab_type": "text"
      },
      "source": [
        "<a href=\"https://colab.research.google.com/github/pentuxxy/Machine-Learning-and-Deep-Learning/blob/main/02_Kelompok_G_3.ipynb\" target=\"_parent\"><img src=\"https://colab.research.google.com/assets/colab-badge.svg\" alt=\"Open In Colab\"/></a>"
      ]
    },
    {
      "cell_type": "markdown",
      "metadata": {
        "id": "Avr_BuLrV23M"
      },
      "source": [
        "# Assignment Chapter 2 - DEEP LEARNING [Case #3]\n",
        "Startup Campus, Indonesia - `Artificial Intelligence (AI)` (Batch 7)\n",
        "* Task: **REGRESSION**\n",
        "* DL Framework: **Tensorflow-Keras**\n",
        "* Dataset: California House Price\n",
        "* Libraries: Pandas, Numpy, Scikit-learn, Matplotlib\n",
        "* Objective: Predict House Pricing with Dual Input Settings using Multilayer Perceptron\n",
        "\n",
        "`PERSYARATAN` Semua modul (termasuk versi yang sesuai) sudah di-install dengan benar.\n",
        "<br>`CARA PENGERJAAN` Lengkapi baris kode yang ditandai dengan **#TODO**.\n",
        "<br>`TARGET PORTFOLIO` Peserta mampu memprediksi harga rumah menggunakan *Multilayer Perceptron*"
      ]
    },
    {
      "cell_type": "markdown",
      "metadata": {
        "id": "SxCpaeLXSxhD"
      },
      "source": [
        "### Import Libraries"
      ]
    },
    {
      "cell_type": "code",
      "execution_count": null,
      "metadata": {
        "id": "1aQumKTMEnYv"
      },
      "outputs": [],
      "source": [
        "import pandas as pd\n",
        "import numpy as np\n",
        "import tensorflow as tf\n",
        "from tensorflow import keras\n",
        "\n",
        "from sklearn.datasets import fetch_california_housing\n",
        "from sklearn.model_selection import train_test_split\n",
        "from sklearn.preprocessing import StandardScaler\n",
        "from sklearn.preprocessing import MinMaxScaler\n",
        "from matplotlib import pyplot as plt"
      ]
    },
    {
      "cell_type": "markdown",
      "metadata": {
        "id": "Enb6t0fMSxhE"
      },
      "source": [
        "### Load Dataset"
      ]
    },
    {
      "cell_type": "code",
      "execution_count": null,
      "metadata": {
        "id": "5KlPLjf8EnYy",
        "colab": {
          "base_uri": "https://localhost:8080/"
        },
        "outputId": "8880db17-3f3f-48fb-d776-6e7697e33530"
      },
      "outputs": [
        {
          "output_type": "stream",
          "name": "stdout",
          "text": [
            "Features name: ['MedInc', 'HouseAge', 'AveRooms', 'AveBedrms', 'Population', 'AveOccup', 'Latitude', 'Longitude']\n",
            "Features data:\n",
            "[[   8.3252       41.            6.98412698 ...    2.55555556\n",
            "    37.88       -122.23      ]\n",
            " [   8.3014       21.            6.23813708 ...    2.10984183\n",
            "    37.86       -122.22      ]\n",
            " [   7.2574       52.            8.28813559 ...    2.80225989\n",
            "    37.85       -122.24      ]\n",
            " ...\n",
            " [   1.7          17.            5.20554273 ...    2.3256351\n",
            "    39.43       -121.22      ]\n",
            " [   1.8672       18.            5.32951289 ...    2.12320917\n",
            "    39.43       -121.32      ]\n",
            " [   2.3886       16.            5.25471698 ...    2.61698113\n",
            "    39.37       -121.24      ]]\n",
            "Target data:\n",
            "[4.526 3.585 3.521 ... 0.923 0.847 0.894]\n"
          ]
        }
      ],
      "source": [
        "housing = fetch_california_housing()\n",
        "print(\"Features name: {}\".format(housing.feature_names))\n",
        "print(\"Features data:\\n{}\".format(housing.data))\n",
        "print(\"Target data:\\n{}\".format(housing.target)) # target is the house price"
      ]
    },
    {
      "cell_type": "code",
      "execution_count": null,
      "metadata": {
        "id": "yeAkxkCOEnY0",
        "colab": {
          "base_uri": "https://localhost:8080/"
        },
        "outputId": "5fb2837c-a836-408d-f318-63a4af791f27"
      },
      "outputs": [
        {
          "output_type": "stream",
          "name": "stdout",
          "text": [
            "   MedInc  HouseAge  AveRooms  AveBedrms  Population  AveOccup  Latitude  \\\n",
            "0  8.3252      41.0  6.984127   1.023810       322.0  2.555556     37.88   \n",
            "1  8.3014      21.0  6.238137   0.971880      2401.0  2.109842     37.86   \n",
            "2  7.2574      52.0  8.288136   1.073446       496.0  2.802260     37.85   \n",
            "3  5.6431      52.0  5.817352   1.073059       558.0  2.547945     37.85   \n",
            "4  3.8462      52.0  6.281853   1.081081       565.0  2.181467     37.85   \n",
            "\n",
            "   Longitude  Target  \n",
            "0    -122.23   4.526  \n",
            "1    -122.22   3.585  \n",
            "2    -122.24   3.521  \n",
            "3    -122.25   3.413  \n",
            "4    -122.25   3.422  \n"
          ]
        }
      ],
      "source": [
        "# TODO: Ubah \"features\" dan \"target\" dari Numpy Array ke Pandas DataFrame\n",
        "features_df = pd.DataFrame(housing.data, columns=housing.feature_names)\n",
        "target_df = pd.DataFrame(housing.target, columns=[\"Target\"])\n",
        "datafr = pd.concat([features_df, target_df], axis=1)\n",
        "print(datafr.head())"
      ]
    },
    {
      "cell_type": "markdown",
      "metadata": {
        "id": "-raALwdhEnY1"
      },
      "source": [
        "### Train / Validation / Test Split"
      ]
    },
    {
      "cell_type": "code",
      "execution_count": null,
      "metadata": {
        "id": "-TxJy_hzEnY1",
        "colab": {
          "base_uri": "https://localhost:8080/"
        },
        "outputId": "e55c360f-31e1-44e1-ce8d-64970e5b593b"
      },
      "outputs": [
        {
          "output_type": "stream",
          "name": "stdout",
          "text": [
            "x_train (13209, 8) y_train (13209,)\n",
            "x_val (3303, 8) y_val (3303,)\n",
            "x_test (4128, 8) y_test (4128,)\n"
          ]
        }
      ],
      "source": [
        "# TODO: Pisahkan data menjadi train, validation, dan test\n",
        "# HINT: Pertama, pisahkan data menjadi train dan test.\n",
        "#       Selanjutnya, pisahkan data train menjadi dua, yaitu data train dan data validation.\n",
        "\n",
        "# Memisahkan fitur dan target dari datafr\n",
        "x = datafr[housing.feature_names]\n",
        "y = datafr[\"Target\"]\n",
        "\n",
        "# Memisahkan data menjadi train (80%) dan test (20%)\n",
        "x_train, x_test, y_train, y_test = train_test_split(x, y, test_size=0.2, random_state=42)\n",
        "x_train, x_val, y_train, y_val = train_test_split(x_train, y_train, test_size=0.2, random_state=42)\n",
        "\n",
        "print(\"x_train\", x_train.shape, \"y_train\", y_train.shape)\n",
        "print(\"x_val\", x_val.shape, \"y_val\", y_val.shape)\n",
        "print(\"x_test\", x_test.shape, \"y_test\", y_test.shape)"
      ]
    },
    {
      "cell_type": "markdown",
      "metadata": {
        "id": "-JJ7qi6rEnY1"
      },
      "source": [
        "### Standardization and Normalization"
      ]
    },
    {
      "cell_type": "code",
      "execution_count": null,
      "metadata": {
        "id": "zLhdXLVIEnY1",
        "colab": {
          "base_uri": "https://localhost:8080/"
        },
        "outputId": "a0fd9909-bf44-4cc9-c7a8-a1ccfb3620a8"
      },
      "outputs": [
        {
          "output_type": "stream",
          "name": "stdout",
          "text": [
            "x_train standar:\n",
            " [[ 0.44340968 -0.12449485  0.5204714   0.05758629 -0.48710064  0.05165771\n",
            "   1.10281811 -0.69155432]\n",
            " [ 0.00321001 -1.07770852 -0.17083875 -0.04872181  1.69902706 -0.05515937\n",
            "  -0.72493883  0.8544348 ]\n",
            " [-0.52181236 -0.20392932 -0.06125032  0.28089603 -0.13535041 -0.01697183\n",
            "  -0.88428174  0.86440892]\n",
            " [ 0.59850347  0.43154646  0.49756019  0.10982954 -0.63483574 -0.04173809\n",
            "  -0.60777493 -0.07814573]\n",
            " [ 0.61813493 -0.28336379  0.45553373 -0.22625511  0.37820493 -0.07532334\n",
            "   1.33714592 -0.96085565]]\n",
            "x_val standar:\n",
            " [[-0.17537802  0.51098093  0.5302405  -0.13220911 -0.78257084 -0.01150308\n",
            "   0.51231202 -0.13300341]\n",
            " [-0.8976145  -0.44223274 -0.53480533 -0.28120633 -0.32265741 -0.04541862\n",
            "   2.5181581  -2.28242699]\n",
            " [ 0.17894064 -1.15714299 -0.70953856 -0.09892453  1.51347882 -0.15285569\n",
            "  -0.92646075  0.82949949]\n",
            " [ 0.16073789 -1.47488089 -0.62243171 -0.30675593 -0.80015835 -0.1583252\n",
            "  -0.70150605  0.56518522]\n",
            " [ 1.71754935 -0.04506038  0.6652203  -0.20974806 -0.52315504 -0.09211493\n",
            "  -0.94520698  0.83947361]]\n",
            "x_test standar:\n",
            " [[-1.15763869 -0.28336379 -0.57962896 -0.18908216 -0.03070471  0.12364657\n",
            "   0.19362619  0.28590977]\n",
            " [-0.70780849  0.11380857 -0.17981591  0.26021715  0.12142726 -0.05098189\n",
            "  -0.23753698  0.06149199]\n",
            " [-0.20575122  1.86136697 -0.68111604  0.24023151 -0.10281351 -0.24337286\n",
            "   1.00908698 -1.42465238]\n",
            " [ 0.98880432 -0.91883958  0.35075535 -0.19454617  0.24453984  0.06051182\n",
            "  -0.64058082  0.43053456]\n",
            " [-0.07616245  0.43154646  0.03425595 -0.17398403 -0.32001928 -0.0795825\n",
            "   0.45607335 -1.17031224]]\n"
          ]
        }
      ],
      "source": [
        "# TODO: Lakukan standarisasi untuk data train, validation, dan test menggunakan StandardScaler()\n",
        "\n",
        "scaler = StandardScaler()\n",
        "\n",
        "x_train = scaler.fit_transform(x_train)\n",
        "x_val = scaler.transform(x_val)\n",
        "x_test = scaler.transform(x_test)\n",
        "\n",
        "# Menampilkan contoh hasil standarisasi\n",
        "print(\"x_train standar:\\n\", x_train[:5])\n",
        "print(\"x_val standar:\\n\", x_val[:5])\n",
        "print(\"x_test standar:\\n\", x_test[:5])"
      ]
    },
    {
      "cell_type": "code",
      "execution_count": null,
      "metadata": {
        "id": "u0w4Pz5oEnY2",
        "colab": {
          "base_uri": "https://localhost:8080/"
        },
        "outputId": "93fd33a3-7e2b-42dd-d66b-1535ba69362c"
      },
      "outputs": [
        {
          "output_type": "stream",
          "name": "stdout",
          "text": [
            "x_train normal:\n",
            " [[0.29013393 0.50980392 0.09248248 0.04962538 0.02438409 0.00449301\n",
            "  0.57933972 0.33665339]\n",
            " [0.23276231 0.2745098  0.06843844 0.04691344 0.09406093 0.00327006\n",
            "  0.16400426 0.64541833]\n",
            " [0.16433566 0.49019608 0.07224997 0.05532204 0.03559517 0.00370727\n",
            "  0.12779553 0.64741036]\n",
            " [0.31034744 0.64705882 0.09168562 0.05095811 0.01967544 0.00342372\n",
            "  0.19062833 0.45916335]\n",
            " [0.31290603 0.47058824 0.09022393 0.04238454 0.05196334 0.0030392\n",
            "  0.63258786 0.28286853]]\n",
            "x_val normal:\n",
            " [[0.20948677 0.66666667 0.09282226 0.04478367 0.01496679 0.00376988\n",
            "  0.44515442 0.44820717]\n",
            " [0.11535703 0.43137255 0.05577953 0.04098273 0.02962527 0.00338158\n",
            "  0.90095847 0.0189243 ]\n",
            " [0.25566544 0.25490196 0.04970224 0.04563276 0.08814709 0.00215153\n",
            "  0.11821086 0.64043825]\n",
            " [0.25329306 0.17647059 0.05273185 0.04033095 0.01440623 0.00208891\n",
            "  0.16932907 0.5876494 ]\n",
            " [0.45619371 0.52941176 0.09751691 0.04280564 0.02323496 0.00284695\n",
            "  0.11395101 0.64243028]]\n",
            "x_test normal:\n",
            " [[0.08146784 0.47058824 0.05422055 0.04333283 0.03893046 0.00531722\n",
            "  0.37273695 0.53187251]\n",
            " [0.14009462 0.56862745 0.06812621 0.05479452 0.04377925 0.00331789\n",
            "  0.27476038 0.48705179]\n",
            " [0.2055282  1.         0.05069079 0.05428468 0.03663219 0.00111519\n",
            "  0.55804047 0.19023904]\n",
            " [0.36121571 0.31372549 0.08657969 0.04319344 0.04770313 0.00459438\n",
            "  0.18317359 0.56075697]\n",
            " [0.22241762 0.64705882 0.07557171 0.04371798 0.02970935 0.00299044\n",
            "  0.43237487 0.24103586]]\n"
          ]
        }
      ],
      "source": [
        "# TODO: Lakukan normalisasi untuk data train, validation, dan test menggunakan MinMaxScaler()\n",
        "\n",
        "scaler = MinMaxScaler()\n",
        "\n",
        "x_train = scaler.fit_transform(x_train)\n",
        "\n",
        "x_val = scaler.transform(x_val)\n",
        "x_test = scaler.transform(x_test)\n",
        "\n",
        "print(\"x_train normal:\\n\", x_train[:5])\n",
        "print(\"x_val normal:\\n\", x_val[:5])\n",
        "print(\"x_test normal:\\n\", x_test[:5])"
      ]
    },
    {
      "cell_type": "markdown",
      "metadata": {
        "id": "ZhPvRD3nEnY2"
      },
      "source": [
        "### Advanced Splitting\n",
        "Perform an advance split into **multiple overlapping input (A and B)**, where **input A** consists of feature 0 to 4 and **input B** consists of feature 2 to 7."
      ]
    },
    {
      "cell_type": "code",
      "execution_count": null,
      "metadata": {
        "id": "SUyDjaZ5EnY2",
        "colab": {
          "base_uri": "https://localhost:8080/"
        },
        "outputId": "c9b12b13-9968-40b7-c2d3-39f56a49a571"
      },
      "outputs": [
        {
          "output_type": "stream",
          "name": "stdout",
          "text": [
            "x_train_A (13209, 5) x_train_B (13209, 6)\n",
            "x_val_A (3303, 5) x_val_B (3303, 6)\n",
            "x_test_A (4128, 5) x_test_B (4128, 6)\n"
          ]
        }
      ],
      "source": [
        "x_train_A, x_train_B = x_train[:, :5], x_train[:, 2:]\n",
        "x_val_A, x_val_B = x_val[:, :5], x_val[:, 2:]\n",
        "x_test_A, x_test_B = x_test[:, :5], x_test[:, 2:]\n",
        "\n",
        "# samples to predict after training\n",
        "x_new_A, x_new_B = x_test_A[:3], x_test_B[:3]\n",
        "\n",
        "print(\"x_train_A\", x_train_A.shape, \"x_train_B\", x_train_B.shape)\n",
        "print(\"x_val_A\", x_val_A.shape, \"x_val_B\", x_val_B.shape)\n",
        "print(\"x_test_A\", x_test_A.shape, \"x_test_B\", x_test_B.shape)"
      ]
    },
    {
      "cell_type": "markdown",
      "metadata": {
        "id": "uvGtH1jNEnY3"
      },
      "source": [
        "### Regression Modeling with Neural Network"
      ]
    },
    {
      "cell_type": "markdown",
      "metadata": {
        "id": "861X-2gEEnY3"
      },
      "source": [
        "<font color=\"red\">**- - - - MOHON DIPERHATIKAN - - - -**</font>\n",
        "<br> Keras/Tensorflow akan **secara otomatis** menambah layer neural network apabila kamu menjalankan ulang *cell* terkait. Jadi, silakan <b>*restart kernel*</b> dan jalankan ulang (*rerun*) semua kode agar hasil sesuai."
      ]
    },
    {
      "cell_type": "markdown",
      "metadata": {
        "id": "kIr1Z7VMEnY3"
      },
      "source": [
        "> <font color=\"red\"> **(Step 1) Build the Model**</font>\n",
        "\n",
        "Yang dilakukan pada tahap ini:\n",
        "* Tentukan *parameters*, yaitu `weight` dan `bias`\n",
        "* Tentukan *hyperparameters*, yaitu total neurons di (1) input layers, (2) hidden layers, and (3) output layer\n",
        "* Tentukan *activation functions*\n",
        "\n",
        "<br> Lihat dokumentasi **Keras Core Layers** [**disini**](https://keras.io/api/layers/core_layers/).\n",
        "<br> Lihat dokumentasi **Keras Model.summary()** dan **Model.get_layers() method**  [**disini**](https://keras.io/api/models/model/#summary-method).\n",
        "<br> Lihat dokumentasi **Keras Layer Initializer** untuk *weights* (*kernel_initializer*) dan *biases* (*bias_initializer*) [**disini**](https://keras.io/api/layers/initializers/).\n",
        "<br> Lihat dokumentasi **Keras Activation Functions** [**disini**](https://keras.io/api/layers/activations/).\n",
        "\n",
        "Secara default di bagian `.layers.Dense()`, sudah ditentukan `activation=None`, `kernel_initializer=\"glorot_uniform\"` dan `bias_initializer=\"zeros\"`."
      ]
    },
    {
      "cell_type": "code",
      "execution_count": null,
      "metadata": {
        "id": "5bEFpzTjEnY4",
        "colab": {
          "base_uri": "https://localhost:8080/",
          "height": 353
        },
        "outputId": "31189711-692b-4b9e-c1d0-911c126434b9"
      },
      "outputs": [
        {
          "output_type": "display_data",
          "data": {
            "text/plain": [
              "\u001b[1mModel: \"functional\"\u001b[0m\n"
            ],
            "text/html": [
              "<pre style=\"white-space:pre;overflow-x:auto;line-height:normal;font-family:Menlo,'DejaVu Sans Mono',consolas,'Courier New',monospace\"><span style=\"font-weight: bold\">Model: \"functional\"</span>\n",
              "</pre>\n"
            ]
          },
          "metadata": {}
        },
        {
          "output_type": "display_data",
          "data": {
            "text/plain": [
              "┏━━━━━━━━━━━━━━━━━━━━━━━━━━━┳━━━━━━━━━━━━━━━━━━━━━━━━┳━━━━━━━━━━━━━━━━┳━━━━━━━━━━━━━━━━━━━━━━━━┓\n",
              "┃\u001b[1m \u001b[0m\u001b[1mLayer (type)             \u001b[0m\u001b[1m \u001b[0m┃\u001b[1m \u001b[0m\u001b[1mOutput Shape          \u001b[0m\u001b[1m \u001b[0m┃\u001b[1m \u001b[0m\u001b[1m       Param #\u001b[0m\u001b[1m \u001b[0m┃\u001b[1m \u001b[0m\u001b[1mConnected to          \u001b[0m\u001b[1m \u001b[0m┃\n",
              "┡━━━━━━━━━━━━━━━━━━━━━━━━━━━╇━━━━━━━━━━━━━━━━━━━━━━━━╇━━━━━━━━━━━━━━━━╇━━━━━━━━━━━━━━━━━━━━━━━━┩\n",
              "│ input_layer_1             │ (\u001b[38;5;45mNone\u001b[0m, \u001b[38;5;34m6\u001b[0m)              │              \u001b[38;5;34m0\u001b[0m │ -                      │\n",
              "│ (\u001b[38;5;33mInputLayer\u001b[0m)              │                        │                │                        │\n",
              "├───────────────────────────┼────────────────────────┼────────────────┼────────────────────────┤\n",
              "│ dense (\u001b[38;5;33mDense\u001b[0m)             │ (\u001b[38;5;45mNone\u001b[0m, \u001b[38;5;34m30\u001b[0m)             │            \u001b[38;5;34m210\u001b[0m │ input_layer_1[\u001b[38;5;34m0\u001b[0m][\u001b[38;5;34m0\u001b[0m]    │\n",
              "├───────────────────────────┼────────────────────────┼────────────────┼────────────────────────┤\n",
              "│ input_layer (\u001b[38;5;33mInputLayer\u001b[0m)  │ (\u001b[38;5;45mNone\u001b[0m, \u001b[38;5;34m5\u001b[0m)              │              \u001b[38;5;34m0\u001b[0m │ -                      │\n",
              "├───────────────────────────┼────────────────────────┼────────────────┼────────────────────────┤\n",
              "│ dense_1 (\u001b[38;5;33mDense\u001b[0m)           │ (\u001b[38;5;45mNone\u001b[0m, \u001b[38;5;34m30\u001b[0m)             │            \u001b[38;5;34m930\u001b[0m │ dense[\u001b[38;5;34m0\u001b[0m][\u001b[38;5;34m0\u001b[0m]            │\n",
              "├───────────────────────────┼────────────────────────┼────────────────┼────────────────────────┤\n",
              "│ concatenate (\u001b[38;5;33mConcatenate\u001b[0m) │ (\u001b[38;5;45mNone\u001b[0m, \u001b[38;5;34m35\u001b[0m)             │              \u001b[38;5;34m0\u001b[0m │ input_layer[\u001b[38;5;34m0\u001b[0m][\u001b[38;5;34m0\u001b[0m],     │\n",
              "│                           │                        │                │ dense_1[\u001b[38;5;34m0\u001b[0m][\u001b[38;5;34m0\u001b[0m]          │\n",
              "├───────────────────────────┼────────────────────────┼────────────────┼────────────────────────┤\n",
              "│ output (\u001b[38;5;33mDense\u001b[0m)            │ (\u001b[38;5;45mNone\u001b[0m, \u001b[38;5;34m1\u001b[0m)              │             \u001b[38;5;34m36\u001b[0m │ concatenate[\u001b[38;5;34m0\u001b[0m][\u001b[38;5;34m0\u001b[0m]      │\n",
              "└───────────────────────────┴────────────────────────┴────────────────┴────────────────────────┘\n"
            ],
            "text/html": [
              "<pre style=\"white-space:pre;overflow-x:auto;line-height:normal;font-family:Menlo,'DejaVu Sans Mono',consolas,'Courier New',monospace\">┏━━━━━━━━━━━━━━━━━━━━━━━━━━━┳━━━━━━━━━━━━━━━━━━━━━━━━┳━━━━━━━━━━━━━━━━┳━━━━━━━━━━━━━━━━━━━━━━━━┓\n",
              "┃<span style=\"font-weight: bold\"> Layer (type)              </span>┃<span style=\"font-weight: bold\"> Output Shape           </span>┃<span style=\"font-weight: bold\">        Param # </span>┃<span style=\"font-weight: bold\"> Connected to           </span>┃\n",
              "┡━━━━━━━━━━━━━━━━━━━━━━━━━━━╇━━━━━━━━━━━━━━━━━━━━━━━━╇━━━━━━━━━━━━━━━━╇━━━━━━━━━━━━━━━━━━━━━━━━┩\n",
              "│ input_layer_1             │ (<span style=\"color: #00d7ff; text-decoration-color: #00d7ff\">None</span>, <span style=\"color: #00af00; text-decoration-color: #00af00\">6</span>)              │              <span style=\"color: #00af00; text-decoration-color: #00af00\">0</span> │ -                      │\n",
              "│ (<span style=\"color: #0087ff; text-decoration-color: #0087ff\">InputLayer</span>)              │                        │                │                        │\n",
              "├───────────────────────────┼────────────────────────┼────────────────┼────────────────────────┤\n",
              "│ dense (<span style=\"color: #0087ff; text-decoration-color: #0087ff\">Dense</span>)             │ (<span style=\"color: #00d7ff; text-decoration-color: #00d7ff\">None</span>, <span style=\"color: #00af00; text-decoration-color: #00af00\">30</span>)             │            <span style=\"color: #00af00; text-decoration-color: #00af00\">210</span> │ input_layer_1[<span style=\"color: #00af00; text-decoration-color: #00af00\">0</span>][<span style=\"color: #00af00; text-decoration-color: #00af00\">0</span>]    │\n",
              "├───────────────────────────┼────────────────────────┼────────────────┼────────────────────────┤\n",
              "│ input_layer (<span style=\"color: #0087ff; text-decoration-color: #0087ff\">InputLayer</span>)  │ (<span style=\"color: #00d7ff; text-decoration-color: #00d7ff\">None</span>, <span style=\"color: #00af00; text-decoration-color: #00af00\">5</span>)              │              <span style=\"color: #00af00; text-decoration-color: #00af00\">0</span> │ -                      │\n",
              "├───────────────────────────┼────────────────────────┼────────────────┼────────────────────────┤\n",
              "│ dense_1 (<span style=\"color: #0087ff; text-decoration-color: #0087ff\">Dense</span>)           │ (<span style=\"color: #00d7ff; text-decoration-color: #00d7ff\">None</span>, <span style=\"color: #00af00; text-decoration-color: #00af00\">30</span>)             │            <span style=\"color: #00af00; text-decoration-color: #00af00\">930</span> │ dense[<span style=\"color: #00af00; text-decoration-color: #00af00\">0</span>][<span style=\"color: #00af00; text-decoration-color: #00af00\">0</span>]            │\n",
              "├───────────────────────────┼────────────────────────┼────────────────┼────────────────────────┤\n",
              "│ concatenate (<span style=\"color: #0087ff; text-decoration-color: #0087ff\">Concatenate</span>) │ (<span style=\"color: #00d7ff; text-decoration-color: #00d7ff\">None</span>, <span style=\"color: #00af00; text-decoration-color: #00af00\">35</span>)             │              <span style=\"color: #00af00; text-decoration-color: #00af00\">0</span> │ input_layer[<span style=\"color: #00af00; text-decoration-color: #00af00\">0</span>][<span style=\"color: #00af00; text-decoration-color: #00af00\">0</span>],     │\n",
              "│                           │                        │                │ dense_1[<span style=\"color: #00af00; text-decoration-color: #00af00\">0</span>][<span style=\"color: #00af00; text-decoration-color: #00af00\">0</span>]          │\n",
              "├───────────────────────────┼────────────────────────┼────────────────┼────────────────────────┤\n",
              "│ output (<span style=\"color: #0087ff; text-decoration-color: #0087ff\">Dense</span>)            │ (<span style=\"color: #00d7ff; text-decoration-color: #00d7ff\">None</span>, <span style=\"color: #00af00; text-decoration-color: #00af00\">1</span>)              │             <span style=\"color: #00af00; text-decoration-color: #00af00\">36</span> │ concatenate[<span style=\"color: #00af00; text-decoration-color: #00af00\">0</span>][<span style=\"color: #00af00; text-decoration-color: #00af00\">0</span>]      │\n",
              "└───────────────────────────┴────────────────────────┴────────────────┴────────────────────────┘\n",
              "</pre>\n"
            ]
          },
          "metadata": {}
        },
        {
          "output_type": "display_data",
          "data": {
            "text/plain": [
              "\u001b[1m Total params: \u001b[0m\u001b[38;5;34m1,176\u001b[0m (4.59 KB)\n"
            ],
            "text/html": [
              "<pre style=\"white-space:pre;overflow-x:auto;line-height:normal;font-family:Menlo,'DejaVu Sans Mono',consolas,'Courier New',monospace\"><span style=\"font-weight: bold\"> Total params: </span><span style=\"color: #00af00; text-decoration-color: #00af00\">1,176</span> (4.59 KB)\n",
              "</pre>\n"
            ]
          },
          "metadata": {}
        },
        {
          "output_type": "display_data",
          "data": {
            "text/plain": [
              "\u001b[1m Trainable params: \u001b[0m\u001b[38;5;34m1,176\u001b[0m (4.59 KB)\n"
            ],
            "text/html": [
              "<pre style=\"white-space:pre;overflow-x:auto;line-height:normal;font-family:Menlo,'DejaVu Sans Mono',consolas,'Courier New',monospace\"><span style=\"font-weight: bold\"> Trainable params: </span><span style=\"color: #00af00; text-decoration-color: #00af00\">1,176</span> (4.59 KB)\n",
              "</pre>\n"
            ]
          },
          "metadata": {}
        },
        {
          "output_type": "display_data",
          "data": {
            "text/plain": [
              "\u001b[1m Non-trainable params: \u001b[0m\u001b[38;5;34m0\u001b[0m (0.00 B)\n"
            ],
            "text/html": [
              "<pre style=\"white-space:pre;overflow-x:auto;line-height:normal;font-family:Menlo,'DejaVu Sans Mono',consolas,'Courier New',monospace\"><span style=\"font-weight: bold\"> Non-trainable params: </span><span style=\"color: #00af00; text-decoration-color: #00af00\">0</span> (0.00 B)\n",
              "</pre>\n"
            ]
          },
          "metadata": {}
        }
      ],
      "source": [
        "input_A = keras.layers.Input(shape=[5])\n",
        "input_B = keras.layers.Input(shape=[6])\n",
        "\n",
        "# TODO: Buat hidden layer pertama dengan 30 neuron dan ReLU sebagai activation function\n",
        "hidden1 = keras.layers.Dense(30, activation=\"relu\")(input_B)\n",
        "\n",
        "# TODO: Buat hidden layer kedua dengan 30 neuron dan ReLU sebagai activation function\n",
        "hidden2 = keras.layers.Dense(30, activation=\"relu\")(hidden1)\n",
        "\n",
        "concat = keras.layers.concatenate([input_A, hidden2])\n",
        "output = keras.layers.Dense(1, name=\"output\")(concat)\n",
        "regression_model = keras.Model(inputs=[input_A, input_B], outputs=[output])\n",
        "regression_model.summary()"
      ]
    },
    {
      "cell_type": "markdown",
      "metadata": {
        "id": "uDKOQ_2SEnY4"
      },
      "source": [
        "> <font color=\"red\"> **(Step 2) Compile the Model** </font>\n",
        "\n",
        "Yang dilakukan pada tahap ini:\n",
        "* Tentukan `loss_function`, `optimizer` (termasuk `learning_rate` dan `momentum`), dan `metrics` (opsional)\n",
        "\n",
        "Lihat dokumentasi **Keras Model.compile() method** [**disini**](https://keras.io/api/models/model_training_apis/#compile-method).\n",
        "<br> Lihat dokumentasi **Keras Loss Function** [**disini**](https://keras.io/api/losses/).\n",
        "<br> Lihat dokumentasi **Keras Optimizers** [**disini**](https://keras.io/api/optimizers/).\n",
        "<br> Lihat dokumentasi **Keras Metrics** [**disini**](https://keras.io/api/metrics/)."
      ]
    },
    {
      "cell_type": "code",
      "execution_count": null,
      "metadata": {
        "id": "5418WTH1EnY4"
      },
      "outputs": [],
      "source": [
        "# TODO: Tentukan learning rate\n",
        "lr = 0.001\n",
        "\n",
        "regression_model.compile(\n",
        "    loss=[\"mean_squared_error\"],\n",
        "    optimizer=tf.keras.optimizers.SGD(learning_rate=lr, momentum=0.9),\n",
        "    metrics=[\"mean_absolute_error\"]\n",
        ")"
      ]
    },
    {
      "cell_type": "markdown",
      "metadata": {
        "id": "k0jU9F8nEnY5"
      },
      "source": [
        "**Catatan:** Di Keras-Tensorflow,\n",
        "* `loss=\"mean_squared_error\"` **ekuivalen** dengan `loss=tf.keras.losses.MeanSquaredError()`\n",
        "* `optimizer=\"Adam\"` **ekuivalen** dengan `optimizer=tf.keras.optimizers.Adam()`"
      ]
    },
    {
      "cell_type": "markdown",
      "metadata": {
        "id": "d9VKlGGmEnY5"
      },
      "source": [
        "> <font color=\"red\"> **(Step 3) Train the Model** </font>\n",
        "\n",
        "Yang dilakukan pada tahap ini:\n",
        "* Tentukan *learning hyperparameters*, yaitu `epochs` dan `batch_size`\n",
        "* Inisiasi `validation_data` (opsional)\n",
        "\n",
        "Lihat dokumentasi **Keras Model.fit() method** [**disini**](https://keras.io/api/models/model_training_apis/#fit-method)."
      ]
    },
    {
      "cell_type": "code",
      "execution_count": null,
      "metadata": {
        "id": "H4G1nYuiSxhG"
      },
      "outputs": [],
      "source": [
        "# TODO: Tentukan jumlah epoch (iterasi)\n",
        "n_epoch = 100\n",
        "\n",
        "# TODO: Tentukan jumlah batch\n",
        "batch_size = 32"
      ]
    },
    {
      "cell_type": "code",
      "execution_count": null,
      "metadata": {
        "id": "k_byVWzFEnY5",
        "colab": {
          "base_uri": "https://localhost:8080/"
        },
        "outputId": "60e21cb6-eadc-4fbe-8b12-93f5db45d21c"
      },
      "outputs": [
        {
          "output_type": "stream",
          "name": "stdout",
          "text": [
            "Epoch 1/100\n",
            "\u001b[1m413/413\u001b[0m \u001b[32m━━━━━━━━━━━━━━━━━━━━\u001b[0m\u001b[37m\u001b[0m \u001b[1m4s\u001b[0m 5ms/step - loss: 2.0279 - mean_absolute_error: 1.0953 - val_loss: 1.1646 - val_mean_absolute_error: 0.8438\n",
            "Epoch 2/100\n",
            "\u001b[1m413/413\u001b[0m \u001b[32m━━━━━━━━━━━━━━━━━━━━\u001b[0m\u001b[37m\u001b[0m \u001b[1m3s\u001b[0m 2ms/step - loss: 1.0966 - mean_absolute_error: 0.8255 - val_loss: 1.0241 - val_mean_absolute_error: 0.7952\n",
            "Epoch 3/100\n",
            "\u001b[1m413/413\u001b[0m \u001b[32m━━━━━━━━━━━━━━━━━━━━\u001b[0m\u001b[37m\u001b[0m \u001b[1m1s\u001b[0m 2ms/step - loss: 0.9736 - mean_absolute_error: 0.7782 - val_loss: 0.9231 - val_mean_absolute_error: 0.7416\n",
            "Epoch 4/100\n",
            "\u001b[1m413/413\u001b[0m \u001b[32m━━━━━━━━━━━━━━━━━━━━\u001b[0m\u001b[37m\u001b[0m \u001b[1m1s\u001b[0m 2ms/step - loss: 0.8623 - mean_absolute_error: 0.7276 - val_loss: 0.8321 - val_mean_absolute_error: 0.7273\n",
            "Epoch 5/100\n",
            "\u001b[1m413/413\u001b[0m \u001b[32m━━━━━━━━━━━━━━━━━━━━\u001b[0m\u001b[37m\u001b[0m \u001b[1m1s\u001b[0m 2ms/step - loss: 0.7680 - mean_absolute_error: 0.6839 - val_loss: 0.7493 - val_mean_absolute_error: 0.6738\n",
            "Epoch 6/100\n",
            "\u001b[1m413/413\u001b[0m \u001b[32m━━━━━━━━━━━━━━━━━━━━\u001b[0m\u001b[37m\u001b[0m \u001b[1m1s\u001b[0m 2ms/step - loss: 0.6929 - mean_absolute_error: 0.6398 - val_loss: 0.6851 - val_mean_absolute_error: 0.6515\n",
            "Epoch 7/100\n",
            "\u001b[1m413/413\u001b[0m \u001b[32m━━━━━━━━━━━━━━━━━━━━\u001b[0m\u001b[37m\u001b[0m \u001b[1m1s\u001b[0m 2ms/step - loss: 0.6426 - mean_absolute_error: 0.6094 - val_loss: 0.6223 - val_mean_absolute_error: 0.6080\n",
            "Epoch 8/100\n",
            "\u001b[1m413/413\u001b[0m \u001b[32m━━━━━━━━━━━━━━━━━━━━\u001b[0m\u001b[37m\u001b[0m \u001b[1m2s\u001b[0m 2ms/step - loss: 0.5937 - mean_absolute_error: 0.5786 - val_loss: 0.5906 - val_mean_absolute_error: 0.5952\n",
            "Epoch 9/100\n",
            "\u001b[1m413/413\u001b[0m \u001b[32m━━━━━━━━━━━━━━━━━━━━\u001b[0m\u001b[37m\u001b[0m \u001b[1m1s\u001b[0m 3ms/step - loss: 0.5539 - mean_absolute_error: 0.5580 - val_loss: 0.5771 - val_mean_absolute_error: 0.5919\n",
            "Epoch 10/100\n",
            "\u001b[1m413/413\u001b[0m \u001b[32m━━━━━━━━━━━━━━━━━━━━\u001b[0m\u001b[37m\u001b[0m \u001b[1m2s\u001b[0m 3ms/step - loss: 0.5384 - mean_absolute_error: 0.5459 - val_loss: 0.5503 - val_mean_absolute_error: 0.5561\n",
            "Epoch 11/100\n",
            "\u001b[1m413/413\u001b[0m \u001b[32m━━━━━━━━━━━━━━━━━━━━\u001b[0m\u001b[37m\u001b[0m \u001b[1m1s\u001b[0m 3ms/step - loss: 0.5266 - mean_absolute_error: 0.5352 - val_loss: 0.5462 - val_mean_absolute_error: 0.5588\n",
            "Epoch 12/100\n",
            "\u001b[1m413/413\u001b[0m \u001b[32m━━━━━━━━━━━━━━━━━━━━\u001b[0m\u001b[37m\u001b[0m \u001b[1m1s\u001b[0m 3ms/step - loss: 0.5350 - mean_absolute_error: 0.5425 - val_loss: 0.5652 - val_mean_absolute_error: 0.5305\n",
            "Epoch 13/100\n",
            "\u001b[1m413/413\u001b[0m \u001b[32m━━━━━━━━━━━━━━━━━━━━\u001b[0m\u001b[37m\u001b[0m \u001b[1m1s\u001b[0m 2ms/step - loss: 0.5106 - mean_absolute_error: 0.5263 - val_loss: 0.5375 - val_mean_absolute_error: 0.5489\n",
            "Epoch 14/100\n",
            "\u001b[1m413/413\u001b[0m \u001b[32m━━━━━━━━━━━━━━━━━━━━\u001b[0m\u001b[37m\u001b[0m \u001b[1m1s\u001b[0m 2ms/step - loss: 0.5117 - mean_absolute_error: 0.5247 - val_loss: 0.5409 - val_mean_absolute_error: 0.5546\n",
            "Epoch 15/100\n",
            "\u001b[1m413/413\u001b[0m \u001b[32m━━━━━━━━━━━━━━━━━━━━\u001b[0m\u001b[37m\u001b[0m \u001b[1m1s\u001b[0m 2ms/step - loss: 0.5081 - mean_absolute_error: 0.5265 - val_loss: 0.5315 - val_mean_absolute_error: 0.5348\n",
            "Epoch 16/100\n",
            "\u001b[1m413/413\u001b[0m \u001b[32m━━━━━━━━━━━━━━━━━━━━\u001b[0m\u001b[37m\u001b[0m \u001b[1m1s\u001b[0m 2ms/step - loss: 0.5159 - mean_absolute_error: 0.5285 - val_loss: 0.5852 - val_mean_absolute_error: 0.5300\n",
            "Epoch 17/100\n",
            "\u001b[1m413/413\u001b[0m \u001b[32m━━━━━━━━━━━━━━━━━━━━\u001b[0m\u001b[37m\u001b[0m \u001b[1m1s\u001b[0m 2ms/step - loss: 0.5073 - mean_absolute_error: 0.5246 - val_loss: 0.5339 - val_mean_absolute_error: 0.5510\n",
            "Epoch 18/100\n",
            "\u001b[1m413/413\u001b[0m \u001b[32m━━━━━━━━━━━━━━━━━━━━\u001b[0m\u001b[37m\u001b[0m \u001b[1m1s\u001b[0m 2ms/step - loss: 0.4899 - mean_absolute_error: 0.5149 - val_loss: 0.5264 - val_mean_absolute_error: 0.5244\n",
            "Epoch 19/100\n",
            "\u001b[1m413/413\u001b[0m \u001b[32m━━━━━━━━━━━━━━━━━━━━\u001b[0m\u001b[37m\u001b[0m \u001b[1m2s\u001b[0m 3ms/step - loss: 0.4788 - mean_absolute_error: 0.5082 - val_loss: 0.5356 - val_mean_absolute_error: 0.5565\n",
            "Epoch 20/100\n",
            "\u001b[1m413/413\u001b[0m \u001b[32m━━━━━━━━━━━━━━━━━━━━\u001b[0m\u001b[37m\u001b[0m \u001b[1m1s\u001b[0m 2ms/step - loss: 0.5090 - mean_absolute_error: 0.5205 - val_loss: 0.5293 - val_mean_absolute_error: 0.5477\n",
            "Epoch 21/100\n",
            "\u001b[1m413/413\u001b[0m \u001b[32m━━━━━━━━━━━━━━━━━━━━\u001b[0m\u001b[37m\u001b[0m \u001b[1m1s\u001b[0m 2ms/step - loss: 0.4922 - mean_absolute_error: 0.5162 - val_loss: 0.5212 - val_mean_absolute_error: 0.5326\n",
            "Epoch 22/100\n",
            "\u001b[1m413/413\u001b[0m \u001b[32m━━━━━━━━━━━━━━━━━━━━\u001b[0m\u001b[37m\u001b[0m \u001b[1m1s\u001b[0m 2ms/step - loss: 0.4707 - mean_absolute_error: 0.5058 - val_loss: 0.5177 - val_mean_absolute_error: 0.5263\n",
            "Epoch 23/100\n",
            "\u001b[1m413/413\u001b[0m \u001b[32m━━━━━━━━━━━━━━━━━━━━\u001b[0m\u001b[37m\u001b[0m \u001b[1m1s\u001b[0m 2ms/step - loss: 0.4822 - mean_absolute_error: 0.5074 - val_loss: 0.5183 - val_mean_absolute_error: 0.5149\n",
            "Epoch 24/100\n",
            "\u001b[1m413/413\u001b[0m \u001b[32m━━━━━━━━━━━━━━━━━━━━\u001b[0m\u001b[37m\u001b[0m \u001b[1m1s\u001b[0m 2ms/step - loss: 0.5045 - mean_absolute_error: 0.5215 - val_loss: 0.5139 - val_mean_absolute_error: 0.5288\n",
            "Epoch 25/100\n",
            "\u001b[1m413/413\u001b[0m \u001b[32m━━━━━━━━━━━━━━━━━━━━\u001b[0m\u001b[37m\u001b[0m \u001b[1m1s\u001b[0m 2ms/step - loss: 0.4906 - mean_absolute_error: 0.5137 - val_loss: 0.5120 - val_mean_absolute_error: 0.5170\n",
            "Epoch 26/100\n",
            "\u001b[1m413/413\u001b[0m \u001b[32m━━━━━━━━━━━━━━━━━━━━\u001b[0m\u001b[37m\u001b[0m \u001b[1m1s\u001b[0m 2ms/step - loss: 0.4918 - mean_absolute_error: 0.5109 - val_loss: 0.5131 - val_mean_absolute_error: 0.5324\n",
            "Epoch 27/100\n",
            "\u001b[1m413/413\u001b[0m \u001b[32m━━━━━━━━━━━━━━━━━━━━\u001b[0m\u001b[37m\u001b[0m \u001b[1m1s\u001b[0m 2ms/step - loss: 0.4875 - mean_absolute_error: 0.5093 - val_loss: 0.5120 - val_mean_absolute_error: 0.5130\n",
            "Epoch 28/100\n",
            "\u001b[1m413/413\u001b[0m \u001b[32m━━━━━━━━━━━━━━━━━━━━\u001b[0m\u001b[37m\u001b[0m \u001b[1m1s\u001b[0m 2ms/step - loss: 0.5103 - mean_absolute_error: 0.5164 - val_loss: 0.5075 - val_mean_absolute_error: 0.5249\n",
            "Epoch 29/100\n",
            "\u001b[1m413/413\u001b[0m \u001b[32m━━━━━━━━━━━━━━━━━━━━\u001b[0m\u001b[37m\u001b[0m \u001b[1m1s\u001b[0m 2ms/step - loss: 0.4672 - mean_absolute_error: 0.5023 - val_loss: 0.5064 - val_mean_absolute_error: 0.5238\n",
            "Epoch 30/100\n",
            "\u001b[1m413/413\u001b[0m \u001b[32m━━━━━━━━━━━━━━━━━━━━\u001b[0m\u001b[37m\u001b[0m \u001b[1m2s\u001b[0m 3ms/step - loss: 0.4879 - mean_absolute_error: 0.5096 - val_loss: 0.5040 - val_mean_absolute_error: 0.5151\n",
            "Epoch 31/100\n",
            "\u001b[1m413/413\u001b[0m \u001b[32m━━━━━━━━━━━━━━━━━━━━\u001b[0m\u001b[37m\u001b[0m \u001b[1m2s\u001b[0m 2ms/step - loss: 0.4826 - mean_absolute_error: 0.5040 - val_loss: 0.5386 - val_mean_absolute_error: 0.5069\n",
            "Epoch 32/100\n",
            "\u001b[1m413/413\u001b[0m \u001b[32m━━━━━━━━━━━━━━━━━━━━\u001b[0m\u001b[37m\u001b[0m \u001b[1m1s\u001b[0m 2ms/step - loss: 0.4927 - mean_absolute_error: 0.5106 - val_loss: 0.4992 - val_mean_absolute_error: 0.5149\n",
            "Epoch 33/100\n",
            "\u001b[1m413/413\u001b[0m \u001b[32m━━━━━━━━━━━━━━━━━━━━\u001b[0m\u001b[37m\u001b[0m \u001b[1m1s\u001b[0m 2ms/step - loss: 0.4844 - mean_absolute_error: 0.5108 - val_loss: 0.5057 - val_mean_absolute_error: 0.5256\n",
            "Epoch 34/100\n",
            "\u001b[1m413/413\u001b[0m \u001b[32m━━━━━━━━━━━━━━━━━━━━\u001b[0m\u001b[37m\u001b[0m \u001b[1m1s\u001b[0m 2ms/step - loss: 0.4859 - mean_absolute_error: 0.5051 - val_loss: 0.4954 - val_mean_absolute_error: 0.5128\n",
            "Epoch 35/100\n",
            "\u001b[1m413/413\u001b[0m \u001b[32m━━━━━━━━━━━━━━━━━━━━\u001b[0m\u001b[37m\u001b[0m \u001b[1m1s\u001b[0m 2ms/step - loss: 0.4657 - mean_absolute_error: 0.4981 - val_loss: 0.4979 - val_mean_absolute_error: 0.5084\n",
            "Epoch 36/100\n",
            "\u001b[1m413/413\u001b[0m \u001b[32m━━━━━━━━━━━━━━━━━━━━\u001b[0m\u001b[37m\u001b[0m \u001b[1m1s\u001b[0m 2ms/step - loss: 0.4862 - mean_absolute_error: 0.5044 - val_loss: 0.5119 - val_mean_absolute_error: 0.4982\n",
            "Epoch 37/100\n",
            "\u001b[1m413/413\u001b[0m \u001b[32m━━━━━━━━━━━━━━━━━━━━\u001b[0m\u001b[37m\u001b[0m \u001b[1m1s\u001b[0m 2ms/step - loss: 0.4694 - mean_absolute_error: 0.4952 - val_loss: 0.5464 - val_mean_absolute_error: 0.5055\n",
            "Epoch 38/100\n",
            "\u001b[1m413/413\u001b[0m \u001b[32m━━━━━━━━━━━━━━━━━━━━\u001b[0m\u001b[37m\u001b[0m \u001b[1m1s\u001b[0m 2ms/step - loss: 0.4660 - mean_absolute_error: 0.4941 - val_loss: 0.4907 - val_mean_absolute_error: 0.5099\n",
            "Epoch 39/100\n",
            "\u001b[1m413/413\u001b[0m \u001b[32m━━━━━━━━━━━━━━━━━━━━\u001b[0m\u001b[37m\u001b[0m \u001b[1m1s\u001b[0m 2ms/step - loss: 0.4893 - mean_absolute_error: 0.5077 - val_loss: 0.5051 - val_mean_absolute_error: 0.5006\n",
            "Epoch 40/100\n",
            "\u001b[1m413/413\u001b[0m \u001b[32m━━━━━━━━━━━━━━━━━━━━\u001b[0m\u001b[37m\u001b[0m \u001b[1m1s\u001b[0m 3ms/step - loss: 0.4645 - mean_absolute_error: 0.4941 - val_loss: 0.4955 - val_mean_absolute_error: 0.5229\n",
            "Epoch 41/100\n",
            "\u001b[1m413/413\u001b[0m \u001b[32m━━━━━━━━━━━━━━━━━━━━\u001b[0m\u001b[37m\u001b[0m \u001b[1m1s\u001b[0m 3ms/step - loss: 0.4809 - mean_absolute_error: 0.5019 - val_loss: 0.4886 - val_mean_absolute_error: 0.5104\n",
            "Epoch 42/100\n",
            "\u001b[1m413/413\u001b[0m \u001b[32m━━━━━━━━━━━━━━━━━━━━\u001b[0m\u001b[37m\u001b[0m \u001b[1m1s\u001b[0m 2ms/step - loss: 0.4750 - mean_absolute_error: 0.4985 - val_loss: 0.4944 - val_mean_absolute_error: 0.4962\n",
            "Epoch 43/100\n",
            "\u001b[1m413/413\u001b[0m \u001b[32m━━━━━━━━━━━━━━━━━━━━\u001b[0m\u001b[37m\u001b[0m \u001b[1m1s\u001b[0m 2ms/step - loss: 0.4521 - mean_absolute_error: 0.4872 - val_loss: 0.4934 - val_mean_absolute_error: 0.5222\n",
            "Epoch 44/100\n",
            "\u001b[1m413/413\u001b[0m \u001b[32m━━━━━━━━━━━━━━━━━━━━\u001b[0m\u001b[37m\u001b[0m \u001b[1m1s\u001b[0m 2ms/step - loss: 0.4755 - mean_absolute_error: 0.4962 - val_loss: 0.5160 - val_mean_absolute_error: 0.5485\n",
            "Epoch 45/100\n",
            "\u001b[1m413/413\u001b[0m \u001b[32m━━━━━━━━━━━━━━━━━━━━\u001b[0m\u001b[37m\u001b[0m \u001b[1m1s\u001b[0m 2ms/step - loss: 0.4592 - mean_absolute_error: 0.4882 - val_loss: 0.4810 - val_mean_absolute_error: 0.4999\n",
            "Epoch 46/100\n",
            "\u001b[1m413/413\u001b[0m \u001b[32m━━━━━━━━━━━━━━━━━━━━\u001b[0m\u001b[37m\u001b[0m \u001b[1m1s\u001b[0m 2ms/step - loss: 0.4533 - mean_absolute_error: 0.4901 - val_loss: 0.4908 - val_mean_absolute_error: 0.5216\n",
            "Epoch 47/100\n",
            "\u001b[1m413/413\u001b[0m \u001b[32m━━━━━━━━━━━━━━━━━━━━\u001b[0m\u001b[37m\u001b[0m \u001b[1m1s\u001b[0m 2ms/step - loss: 0.4665 - mean_absolute_error: 0.4937 - val_loss: 0.4871 - val_mean_absolute_error: 0.5164\n",
            "Epoch 48/100\n",
            "\u001b[1m413/413\u001b[0m \u001b[32m━━━━━━━━━━━━━━━━━━━━\u001b[0m\u001b[37m\u001b[0m \u001b[1m1s\u001b[0m 2ms/step - loss: 0.4577 - mean_absolute_error: 0.4902 - val_loss: 0.4809 - val_mean_absolute_error: 0.5033\n",
            "Epoch 49/100\n",
            "\u001b[1m413/413\u001b[0m \u001b[32m━━━━━━━━━━━━━━━━━━━━\u001b[0m\u001b[37m\u001b[0m \u001b[1m1s\u001b[0m 2ms/step - loss: 0.4648 - mean_absolute_error: 0.4895 - val_loss: 0.4975 - val_mean_absolute_error: 0.5311\n",
            "Epoch 50/100\n",
            "\u001b[1m413/413\u001b[0m \u001b[32m━━━━━━━━━━━━━━━━━━━━\u001b[0m\u001b[37m\u001b[0m \u001b[1m1s\u001b[0m 2ms/step - loss: 0.4612 - mean_absolute_error: 0.4925 - val_loss: 0.4763 - val_mean_absolute_error: 0.5014\n",
            "Epoch 51/100\n",
            "\u001b[1m413/413\u001b[0m \u001b[32m━━━━━━━━━━━━━━━━━━━━\u001b[0m\u001b[37m\u001b[0m \u001b[1m1s\u001b[0m 3ms/step - loss: 0.4667 - mean_absolute_error: 0.4953 - val_loss: 0.5176 - val_mean_absolute_error: 0.5526\n",
            "Epoch 52/100\n",
            "\u001b[1m413/413\u001b[0m \u001b[32m━━━━━━━━━━━━━━━━━━━━\u001b[0m\u001b[37m\u001b[0m \u001b[1m1s\u001b[0m 3ms/step - loss: 0.4599 - mean_absolute_error: 0.4896 - val_loss: 0.4826 - val_mean_absolute_error: 0.4862\n",
            "Epoch 53/100\n",
            "\u001b[1m413/413\u001b[0m \u001b[32m━━━━━━━━━━━━━━━━━━━━\u001b[0m\u001b[37m\u001b[0m \u001b[1m1s\u001b[0m 2ms/step - loss: 0.4723 - mean_absolute_error: 0.4984 - val_loss: 0.4793 - val_mean_absolute_error: 0.4925\n",
            "Epoch 54/100\n",
            "\u001b[1m413/413\u001b[0m \u001b[32m━━━━━━━━━━━━━━━━━━━━\u001b[0m\u001b[37m\u001b[0m \u001b[1m1s\u001b[0m 2ms/step - loss: 0.4528 - mean_absolute_error: 0.4865 - val_loss: 0.4771 - val_mean_absolute_error: 0.5018\n",
            "Epoch 55/100\n",
            "\u001b[1m413/413\u001b[0m \u001b[32m━━━━━━━━━━━━━━━━━━━━\u001b[0m\u001b[37m\u001b[0m \u001b[1m1s\u001b[0m 2ms/step - loss: 0.4436 - mean_absolute_error: 0.4830 - val_loss: 0.4876 - val_mean_absolute_error: 0.4881\n",
            "Epoch 56/100\n",
            "\u001b[1m413/413\u001b[0m \u001b[32m━━━━━━━━━━━━━━━━━━━━\u001b[0m\u001b[37m\u001b[0m \u001b[1m1s\u001b[0m 2ms/step - loss: 0.4559 - mean_absolute_error: 0.4832 - val_loss: 0.4702 - val_mean_absolute_error: 0.4951\n",
            "Epoch 57/100\n",
            "\u001b[1m413/413\u001b[0m \u001b[32m━━━━━━━━━━━━━━━━━━━━\u001b[0m\u001b[37m\u001b[0m \u001b[1m1s\u001b[0m 2ms/step - loss: 0.4632 - mean_absolute_error: 0.4923 - val_loss: 0.4744 - val_mean_absolute_error: 0.4937\n",
            "Epoch 58/100\n",
            "\u001b[1m413/413\u001b[0m \u001b[32m━━━━━━━━━━━━━━━━━━━━\u001b[0m\u001b[37m\u001b[0m \u001b[1m1s\u001b[0m 2ms/step - loss: 0.4380 - mean_absolute_error: 0.4766 - val_loss: 0.4853 - val_mean_absolute_error: 0.4866\n",
            "Epoch 59/100\n",
            "\u001b[1m413/413\u001b[0m \u001b[32m━━━━━━━━━━━━━━━━━━━━\u001b[0m\u001b[37m\u001b[0m \u001b[1m1s\u001b[0m 2ms/step - loss: 0.4707 - mean_absolute_error: 0.4937 - val_loss: 0.5116 - val_mean_absolute_error: 0.5460\n",
            "Epoch 60/100\n",
            "\u001b[1m413/413\u001b[0m \u001b[32m━━━━━━━━━━━━━━━━━━━━\u001b[0m\u001b[37m\u001b[0m \u001b[1m1s\u001b[0m 2ms/step - loss: 0.4558 - mean_absolute_error: 0.4873 - val_loss: 0.4676 - val_mean_absolute_error: 0.4910\n",
            "Epoch 61/100\n",
            "\u001b[1m413/413\u001b[0m \u001b[32m━━━━━━━━━━━━━━━━━━━━\u001b[0m\u001b[37m\u001b[0m \u001b[1m1s\u001b[0m 2ms/step - loss: 0.4518 - mean_absolute_error: 0.4824 - val_loss: 0.4960 - val_mean_absolute_error: 0.5315\n",
            "Epoch 62/100\n",
            "\u001b[1m413/413\u001b[0m \u001b[32m━━━━━━━━━━━━━━━━━━━━\u001b[0m\u001b[37m\u001b[0m \u001b[1m1s\u001b[0m 2ms/step - loss: 0.4430 - mean_absolute_error: 0.4821 - val_loss: 0.5090 - val_mean_absolute_error: 0.4895\n",
            "Epoch 63/100\n",
            "\u001b[1m413/413\u001b[0m \u001b[32m━━━━━━━━━━━━━━━━━━━━\u001b[0m\u001b[37m\u001b[0m \u001b[1m1s\u001b[0m 2ms/step - loss: 0.4565 - mean_absolute_error: 0.4885 - val_loss: 0.4923 - val_mean_absolute_error: 0.4854\n",
            "Epoch 64/100\n",
            "\u001b[1m413/413\u001b[0m \u001b[32m━━━━━━━━━━━━━━━━━━━━\u001b[0m\u001b[37m\u001b[0m \u001b[1m2s\u001b[0m 3ms/step - loss: 0.4459 - mean_absolute_error: 0.4818 - val_loss: 0.4667 - val_mean_absolute_error: 0.4935\n",
            "Epoch 65/100\n",
            "\u001b[1m413/413\u001b[0m \u001b[32m━━━━━━━━━━━━━━━━━━━━\u001b[0m\u001b[37m\u001b[0m \u001b[1m1s\u001b[0m 3ms/step - loss: 0.4499 - mean_absolute_error: 0.4831 - val_loss: 0.5025 - val_mean_absolute_error: 0.5405\n",
            "Epoch 66/100\n",
            "\u001b[1m413/413\u001b[0m \u001b[32m━━━━━━━━━━━━━━━━━━━━\u001b[0m\u001b[37m\u001b[0m \u001b[1m1s\u001b[0m 2ms/step - loss: 0.4578 - mean_absolute_error: 0.4905 - val_loss: 0.4643 - val_mean_absolute_error: 0.4913\n",
            "Epoch 67/100\n",
            "\u001b[1m413/413\u001b[0m \u001b[32m━━━━━━━━━━━━━━━━━━━━\u001b[0m\u001b[37m\u001b[0m \u001b[1m1s\u001b[0m 2ms/step - loss: 0.4328 - mean_absolute_error: 0.4755 - val_loss: 0.4733 - val_mean_absolute_error: 0.5106\n",
            "Epoch 68/100\n",
            "\u001b[1m413/413\u001b[0m \u001b[32m━━━━━━━━━━━━━━━━━━━━\u001b[0m\u001b[37m\u001b[0m \u001b[1m1s\u001b[0m 2ms/step - loss: 0.4458 - mean_absolute_error: 0.4868 - val_loss: 0.5089 - val_mean_absolute_error: 0.5457\n",
            "Epoch 69/100\n",
            "\u001b[1m413/413\u001b[0m \u001b[32m━━━━━━━━━━━━━━━━━━━━\u001b[0m\u001b[37m\u001b[0m \u001b[1m1s\u001b[0m 2ms/step - loss: 0.4410 - mean_absolute_error: 0.4799 - val_loss: 0.4861 - val_mean_absolute_error: 0.5247\n",
            "Epoch 70/100\n",
            "\u001b[1m413/413\u001b[0m \u001b[32m━━━━━━━━━━━━━━━━━━━━\u001b[0m\u001b[37m\u001b[0m \u001b[1m1s\u001b[0m 2ms/step - loss: 0.4601 - mean_absolute_error: 0.4891 - val_loss: 0.4688 - val_mean_absolute_error: 0.4894\n",
            "Epoch 71/100\n",
            "\u001b[1m413/413\u001b[0m \u001b[32m━━━━━━━━━━━━━━━━━━━━\u001b[0m\u001b[37m\u001b[0m \u001b[1m1s\u001b[0m 2ms/step - loss: 0.4649 - mean_absolute_error: 0.4865 - val_loss: 0.5028 - val_mean_absolute_error: 0.4898\n",
            "Epoch 72/100\n",
            "\u001b[1m413/413\u001b[0m \u001b[32m━━━━━━━━━━━━━━━━━━━━\u001b[0m\u001b[37m\u001b[0m \u001b[1m1s\u001b[0m 2ms/step - loss: 0.4409 - mean_absolute_error: 0.4789 - val_loss: 0.4720 - val_mean_absolute_error: 0.5028\n",
            "Epoch 73/100\n",
            "\u001b[1m413/413\u001b[0m \u001b[32m━━━━━━━━━━━━━━━━━━━━\u001b[0m\u001b[37m\u001b[0m \u001b[1m1s\u001b[0m 2ms/step - loss: 0.4457 - mean_absolute_error: 0.4811 - val_loss: 0.4687 - val_mean_absolute_error: 0.4880\n",
            "Epoch 74/100\n",
            "\u001b[1m413/413\u001b[0m \u001b[32m━━━━━━━━━━━━━━━━━━━━\u001b[0m\u001b[37m\u001b[0m \u001b[1m1s\u001b[0m 2ms/step - loss: 0.4520 - mean_absolute_error: 0.4879 - val_loss: 0.4627 - val_mean_absolute_error: 0.4883\n",
            "Epoch 75/100\n",
            "\u001b[1m413/413\u001b[0m \u001b[32m━━━━━━━━━━━━━━━━━━━━\u001b[0m\u001b[37m\u001b[0m \u001b[1m1s\u001b[0m 2ms/step - loss: 0.4533 - mean_absolute_error: 0.4855 - val_loss: 0.4622 - val_mean_absolute_error: 0.4879\n",
            "Epoch 76/100\n",
            "\u001b[1m413/413\u001b[0m \u001b[32m━━━━━━━━━━━━━━━━━━━━\u001b[0m\u001b[37m\u001b[0m \u001b[1m2s\u001b[0m 3ms/step - loss: 0.4388 - mean_absolute_error: 0.4771 - val_loss: 0.4619 - val_mean_absolute_error: 0.4914\n",
            "Epoch 77/100\n",
            "\u001b[1m413/413\u001b[0m \u001b[32m━━━━━━━━━━━━━━━━━━━━\u001b[0m\u001b[37m\u001b[0m \u001b[1m2s\u001b[0m 2ms/step - loss: 0.4425 - mean_absolute_error: 0.4796 - val_loss: 0.4753 - val_mean_absolute_error: 0.4806\n",
            "Epoch 78/100\n",
            "\u001b[1m413/413\u001b[0m \u001b[32m━━━━━━━━━━━━━━━━━━━━\u001b[0m\u001b[37m\u001b[0m \u001b[1m1s\u001b[0m 2ms/step - loss: 0.4519 - mean_absolute_error: 0.4855 - val_loss: 0.4823 - val_mean_absolute_error: 0.5226\n",
            "Epoch 79/100\n",
            "\u001b[1m413/413\u001b[0m \u001b[32m━━━━━━━━━━━━━━━━━━━━\u001b[0m\u001b[37m\u001b[0m \u001b[1m1s\u001b[0m 2ms/step - loss: 0.4538 - mean_absolute_error: 0.4840 - val_loss: 0.4691 - val_mean_absolute_error: 0.5023\n",
            "Epoch 80/100\n",
            "\u001b[1m413/413\u001b[0m \u001b[32m━━━━━━━━━━━━━━━━━━━━\u001b[0m\u001b[37m\u001b[0m \u001b[1m1s\u001b[0m 2ms/step - loss: 0.4364 - mean_absolute_error: 0.4748 - val_loss: 0.4708 - val_mean_absolute_error: 0.4809\n",
            "Epoch 81/100\n",
            "\u001b[1m413/413\u001b[0m \u001b[32m━━━━━━━━━━━━━━━━━━━━\u001b[0m\u001b[37m\u001b[0m \u001b[1m1s\u001b[0m 2ms/step - loss: 0.4503 - mean_absolute_error: 0.4817 - val_loss: 0.4645 - val_mean_absolute_error: 0.5016\n",
            "Epoch 82/100\n",
            "\u001b[1m413/413\u001b[0m \u001b[32m━━━━━━━━━━━━━━━━━━━━\u001b[0m\u001b[37m\u001b[0m \u001b[1m1s\u001b[0m 2ms/step - loss: 0.4342 - mean_absolute_error: 0.4767 - val_loss: 0.4578 - val_mean_absolute_error: 0.4908\n",
            "Epoch 83/100\n",
            "\u001b[1m413/413\u001b[0m \u001b[32m━━━━━━━━━━━━━━━━━━━━\u001b[0m\u001b[37m\u001b[0m \u001b[1m1s\u001b[0m 2ms/step - loss: 0.4436 - mean_absolute_error: 0.4798 - val_loss: 0.4650 - val_mean_absolute_error: 0.4842\n",
            "Epoch 84/100\n",
            "\u001b[1m413/413\u001b[0m \u001b[32m━━━━━━━━━━━━━━━━━━━━\u001b[0m\u001b[37m\u001b[0m \u001b[1m1s\u001b[0m 2ms/step - loss: 0.4262 - mean_absolute_error: 0.4725 - val_loss: 0.4761 - val_mean_absolute_error: 0.4791\n",
            "Epoch 85/100\n",
            "\u001b[1m413/413\u001b[0m \u001b[32m━━━━━━━━━━━━━━━━━━━━\u001b[0m\u001b[37m\u001b[0m \u001b[1m2s\u001b[0m 3ms/step - loss: 0.4492 - mean_absolute_error: 0.4829 - val_loss: 0.4855 - val_mean_absolute_error: 0.4807\n",
            "Epoch 86/100\n",
            "\u001b[1m413/413\u001b[0m \u001b[32m━━━━━━━━━━━━━━━━━━━━\u001b[0m\u001b[37m\u001b[0m \u001b[1m1s\u001b[0m 3ms/step - loss: 0.4369 - mean_absolute_error: 0.4742 - val_loss: 0.4562 - val_mean_absolute_error: 0.4892\n",
            "Epoch 87/100\n",
            "\u001b[1m413/413\u001b[0m \u001b[32m━━━━━━━━━━━━━━━━━━━━\u001b[0m\u001b[37m\u001b[0m \u001b[1m1s\u001b[0m 2ms/step - loss: 0.4339 - mean_absolute_error: 0.4732 - val_loss: 0.4557 - val_mean_absolute_error: 0.4849\n",
            "Epoch 88/100\n",
            "\u001b[1m413/413\u001b[0m \u001b[32m━━━━━━━━━━━━━━━━━━━━\u001b[0m\u001b[37m\u001b[0m \u001b[1m1s\u001b[0m 2ms/step - loss: 0.4348 - mean_absolute_error: 0.4758 - val_loss: 0.4660 - val_mean_absolute_error: 0.4944\n",
            "Epoch 89/100\n",
            "\u001b[1m413/413\u001b[0m \u001b[32m━━━━━━━━━━━━━━━━━━━━\u001b[0m\u001b[37m\u001b[0m \u001b[1m1s\u001b[0m 2ms/step - loss: 0.4723 - mean_absolute_error: 0.4925 - val_loss: 0.4768 - val_mean_absolute_error: 0.4828\n",
            "Epoch 90/100\n",
            "\u001b[1m413/413\u001b[0m \u001b[32m━━━━━━━━━━━━━━━━━━━━\u001b[0m\u001b[37m\u001b[0m \u001b[1m1s\u001b[0m 2ms/step - loss: 0.4421 - mean_absolute_error: 0.4831 - val_loss: 0.4877 - val_mean_absolute_error: 0.5312\n",
            "Epoch 91/100\n",
            "\u001b[1m413/413\u001b[0m \u001b[32m━━━━━━━━━━━━━━━━━━━━\u001b[0m\u001b[37m\u001b[0m \u001b[1m1s\u001b[0m 2ms/step - loss: 0.4461 - mean_absolute_error: 0.4821 - val_loss: 0.4646 - val_mean_absolute_error: 0.4791\n",
            "Epoch 92/100\n",
            "\u001b[1m413/413\u001b[0m \u001b[32m━━━━━━━━━━━━━━━━━━━━\u001b[0m\u001b[37m\u001b[0m \u001b[1m1s\u001b[0m 2ms/step - loss: 0.4484 - mean_absolute_error: 0.4819 - val_loss: 0.4602 - val_mean_absolute_error: 0.4788\n",
            "Epoch 93/100\n",
            "\u001b[1m413/413\u001b[0m \u001b[32m━━━━━━━━━━━━━━━━━━━━\u001b[0m\u001b[37m\u001b[0m \u001b[1m1s\u001b[0m 2ms/step - loss: 0.4245 - mean_absolute_error: 0.4713 - val_loss: 0.4559 - val_mean_absolute_error: 0.4761\n",
            "Epoch 94/100\n",
            "\u001b[1m413/413\u001b[0m \u001b[32m━━━━━━━━━━━━━━━━━━━━\u001b[0m\u001b[37m\u001b[0m \u001b[1m1s\u001b[0m 2ms/step - loss: 0.4400 - mean_absolute_error: 0.4770 - val_loss: 0.4626 - val_mean_absolute_error: 0.4771\n",
            "Epoch 95/100\n",
            "\u001b[1m413/413\u001b[0m \u001b[32m━━━━━━━━━━━━━━━━━━━━\u001b[0m\u001b[37m\u001b[0m \u001b[1m1s\u001b[0m 2ms/step - loss: 0.4472 - mean_absolute_error: 0.4796 - val_loss: 0.4540 - val_mean_absolute_error: 0.4799\n",
            "Epoch 96/100\n",
            "\u001b[1m413/413\u001b[0m \u001b[32m━━━━━━━━━━━━━━━━━━━━\u001b[0m\u001b[37m\u001b[0m \u001b[1m1s\u001b[0m 2ms/step - loss: 0.4339 - mean_absolute_error: 0.4726 - val_loss: 0.5515 - val_mean_absolute_error: 0.5823\n",
            "Epoch 97/100\n",
            "\u001b[1m413/413\u001b[0m \u001b[32m━━━━━━━━━━━━━━━━━━━━\u001b[0m\u001b[37m\u001b[0m \u001b[1m1s\u001b[0m 3ms/step - loss: 0.4514 - mean_absolute_error: 0.4824 - val_loss: 0.4565 - val_mean_absolute_error: 0.4774\n",
            "Epoch 98/100\n",
            "\u001b[1m413/413\u001b[0m \u001b[32m━━━━━━━━━━━━━━━━━━━━\u001b[0m\u001b[37m\u001b[0m \u001b[1m1s\u001b[0m 3ms/step - loss: 0.4433 - mean_absolute_error: 0.4751 - val_loss: 0.4665 - val_mean_absolute_error: 0.5079\n",
            "Epoch 99/100\n",
            "\u001b[1m413/413\u001b[0m \u001b[32m━━━━━━━━━━━━━━━━━━━━\u001b[0m\u001b[37m\u001b[0m \u001b[1m2s\u001b[0m 2ms/step - loss: 0.4337 - mean_absolute_error: 0.4782 - val_loss: 0.4509 - val_mean_absolute_error: 0.4822\n",
            "Epoch 100/100\n",
            "\u001b[1m413/413\u001b[0m \u001b[32m━━━━━━━━━━━━━━━━━━━━\u001b[0m\u001b[37m\u001b[0m \u001b[1m1s\u001b[0m 2ms/step - loss: 0.4242 - mean_absolute_error: 0.4688 - val_loss: 0.4549 - val_mean_absolute_error: 0.4906\n"
          ]
        }
      ],
      "source": [
        "reg_result = regression_model.fit(\n",
        "    x=[x_train_A, x_train_B],\n",
        "    y=[y_train, y_train],\n",
        "    epochs=n_epoch, batch_size=batch_size,\n",
        "    validation_data=([x_val_A, x_val_B], [y_val, y_val])\n",
        ")"
      ]
    },
    {
      "cell_type": "code",
      "execution_count": null,
      "metadata": {
        "id": "q-zusciEEnY6",
        "colab": {
          "base_uri": "https://localhost:8080/",
          "height": 718
        },
        "outputId": "b4b86e97-ba04-4d47-c707-6cc81da1cc3c"
      },
      "outputs": [
        {
          "output_type": "display_data",
          "data": {
            "text/plain": [
              "<Figure size 1500x800 with 1 Axes>"
            ],
            "image/png": "[encoded data removed]"
          },
          "metadata": {}
        }
      ],
      "source": [
        "pd.DataFrame(reg_result.history).plot(figsize=(15, 8))\n",
        "\n",
        "plt.title(\"Performance Result\")\n",
        "plt.xlabel(\"Epochs\")\n",
        "plt.ylabel(\"Scores\")\n",
        "plt.grid(True)\n",
        "plt.show()"
      ]
    },
    {
      "cell_type": "markdown",
      "metadata": {
        "id": "yK0U4l0HSxhH"
      },
      "source": [
        "<font color=\"red\">**- - - - STOP, CEK DULU! - - - -**</font>\n",
        "<br>Sebelum melakukan evaluasi dan penyimpanan model, **pastikan *val_loss* berada dibawah 0.50** dan **tidak terjadi *overfitting***.\n",
        "<br>Silakan ulangi langkah diatas sebagai langkah *hyperparameter tuning* jika terjadi."
      ]
    },
    {
      "cell_type": "markdown",
      "metadata": {
        "id": "8jSNYluQEnY6"
      },
      "source": [
        "> <font color=\"red\"> **(Step 4) Evaluate the Model with Test Data** </font>\n",
        "\n",
        "Lihat dokumentasi **Keras Model.evaluate() method** [**disini**](https://keras.io/api/models/model_training_apis/#evaluate-method)."
      ]
    },
    {
      "cell_type": "code",
      "execution_count": null,
      "metadata": {
        "id": "9wScwvLSEnY6",
        "colab": {
          "base_uri": "https://localhost:8080/"
        },
        "outputId": "4158339b-5e67-4d4f-f1e8-1817113c55c1"
      },
      "outputs": [
        {
          "output_type": "stream",
          "name": "stdout",
          "text": [
            "\u001b[1m129/129\u001b[0m \u001b[32m━━━━━━━━━━━━━━━━━━━━\u001b[0m\u001b[37m\u001b[0m \u001b[1m0s\u001b[0m 1ms/step - loss: 0.4422 - mean_absolute_error: 0.4860\n"
          ]
        },
        {
          "output_type": "execute_result",
          "data": {
            "text/plain": [
              "[0.4473094940185547, 0.4843786060810089]"
            ]
          },
          "metadata": {},
          "execution_count": 13
        }
      ],
      "source": [
        "regression_model.evaluate([x_test_A, x_test_B], [y_test, y_test])"
      ]
    },
    {
      "cell_type": "markdown",
      "metadata": {
        "id": "aOPhrumNEnY7"
      },
      "source": [
        "> <font color=\"red\"> **(Step 4) Save and Reload the Model** </font>"
      ]
    },
    {
      "cell_type": "code",
      "execution_count": null,
      "metadata": {
        "id": "COnuyhzpEnY7",
        "colab": {
          "base_uri": "https://localhost:8080/"
        },
        "outputId": "eba058cb-284b-4332-ec12-d049814e7cac"
      },
      "outputs": [
        {
          "output_type": "stream",
          "name": "stdout",
          "text": [
            "Model telah disimpan dengan nama: case03.keras\n"
          ]
        }
      ],
      "source": [
        "# TODO: Berikan nama file untuk model, diakhiri dengan ekstensi .keras\n",
        "filename = \"case03.keras\"\n",
        "\n",
        "# save the model into your local storage\n",
        "regression_model.save(filename)\n",
        "\n",
        "print(f\"Model telah disimpan dengan nama: {filename}\")"
      ]
    },
    {
      "cell_type": "code",
      "execution_count": null,
      "metadata": {
        "id": "DzLnNk67EnY8",
        "colab": {
          "base_uri": "https://localhost:8080/"
        },
        "outputId": "249b7b33-eb2e-471d-c6df-52994dcbe493"
      },
      "outputs": [
        {
          "output_type": "stream",
          "name": "stdout",
          "text": [
            "\u001b[1m1/1\u001b[0m \u001b[32m━━━━━━━━━━━━━━━━━━━━\u001b[0m\u001b[37m\u001b[0m \u001b[1m0s\u001b[0m 303ms/step\n"
          ]
        },
        {
          "output_type": "execute_result",
          "data": {
            "text/plain": [
              "array([[0.31998652],\n",
              "       [1.0750257 ],\n",
              "       [2.9173265 ]], dtype=float32)"
            ]
          },
          "metadata": {},
          "execution_count": 15
        }
      ],
      "source": [
        "# TODO: Reload model dan lakukan prediksi dengan data baru (x_new_A dan x_new_B)\n",
        "this_model = keras.models.load_model(filename)\n",
        "this_model.predict([x_new_A, x_new_B])"
      ]
    },
    {
      "cell_type": "markdown",
      "metadata": {
        "id": "Kd8Td1YsV23w"
      },
      "source": [
        "### Scoring\n",
        "Total `#TODO` = 10\n",
        "<br>Checklist:\n",
        "\n",
        "- [x] Ubah \"features\" dan \"target\" dari Numpy Array ke Pandas DataFrame\n",
        "- [x] Pisahkan data menjadi train, validation, dan test\n",
        "- [x] Lakukan standarisasi untuk data train, validation, dan test menggunakan StandardScaler()\n",
        "- [x] Lakukan normalisasi untuk data train, validation, dan test menggunakan MinMaxScaler()\n",
        "- [x] Buat hidden layer pertama dengan 30 neuron dan ReLU sebagai activation function\n",
        "- [x] Buat hidden layer kedua dengan 30 neuron dan ReLU sebagai activation function\n",
        "- [x] Tentukan jumlah epoch (iterasi)\n",
        "- [x] Tentukan jumlah batch\n",
        "- [x] Berikan nama file untuk model, diakhiri dengan ekstensi .keras\n",
        "- [x] Reload model dan lakukan prediksi dengan data baru (`x_new_A` dan `x_new_B`)"
      ]
    },
    {
      "cell_type": "markdown",
      "metadata": {
        "id": "nu54eCVrV23w"
      },
      "source": [
        "### Additional readings\n",
        "- N/A"
      ]
    },
    {
      "cell_type": "markdown",
      "metadata": {
        "id": "8lozabSPV23w"
      },
      "source": [
        "### Copyright © 2024 Startup Campus, Indonesia\n",
        "* Prepared by **Nicholas Dominic, M.Kom.** [(profile)](https://linkedin.com/in/nicholas-dominic)\n",
        "* You may **NOT** use this file except there is written permission from PT. Kampus Merdeka Belajar (Startup Campus).\n",
        "* Please address your questions to mentors."
      ]
    }
  ],
  "metadata": {
    "accelerator": "GPU",
    "colab": {
      "gpuType": "T4",
      "provenance": [],
      "include_colab_link": true
    },
    "kernelspec": {
      "display_name": "Python 3 (ipykernel)",
      "language": "python",
      "name": "python3"
    },
    "language_info": {
      "codemirror_mode": {
        "name": "ipython",
        "version": 3
      },
      "file_extension": ".py",
      "mimetype": "text/x-python",
      "name": "python",
      "nbconvert_exporter": "python",
      "pygments_lexer": "ipython3",
      "version": "3.11.9"
    }
  },
  "nbformat": 4,
  "nbformat_minor": 0
}