{
  "cells": [
    {
      "cell_type": "markdown",
      "metadata": {
        "id": "view-in-github",
        "colab_type": "text"
      },
      "source": [
        "<a href=\"https://colab.research.google.com/github/pentuxxy/Machine-Learning-and-Deep-Learning/blob/main/02_Kelompok_G_1.ipynb\" target=\"_parent\"><img src=\"https://colab.research.google.com/assets/colab-badge.svg\" alt=\"Open In Colab\"/></a>"
      ]
    },
    {
      "cell_type": "markdown",
      "metadata": {
        "id": "Avr_BuLrV23M"
      },
      "source": [
        "# Assignment Chapter 2 - MACHINE LEARNING [Case #1]\n",
        "Startup Campus, Indonesia - `Artificial Intelligence (AI)` (Batch 7)\n",
        "* Dataset: SC_HW1_bank_data\n",
        "* Libraries: Pandas, Numpy, Scikit-learn\n",
        "* Objective: Classification with Supervised Machine Learning Models\n",
        "\n",
        "`PERSYARATAN` Semua modul (termasuk versi yang sesuai) sudah di-install dengan benar.\n",
        "<br>`CARA PENGERJAAN` Lengkapi baris kode yang ditandai dengan **#TODO**.\n",
        "<br>`TARGET PORTFOLIO` Peserta mampu membandingkan akurasi klasifikasi dari berbagai model *supervised learning*."
      ]
    },
    {
      "cell_type": "markdown",
      "metadata": {
        "id": "RUIg363RYcAZ"
      },
      "source": [
        "### Import Library"
      ]
    },
    {
      "cell_type": "code",
      "execution_count": null,
      "metadata": {
        "id": "CWrO8BImYcAa"
      },
      "outputs": [],
      "source": [
        "import pandas as pd\n",
        "import numpy as np\n",
        "\n",
        "from sklearn.preprocessing import MinMaxScaler\n",
        "from sklearn.model_selection import train_test_split as tts\n",
        "from sklearn.model_selection import GridSearchCV\n",
        "\n",
        "from sklearn.metrics import classification_report\n",
        "from sklearn.metrics import accuracy_score\n",
        "from sklearn.metrics import confusion_matrix"
      ]
    },
    {
      "cell_type": "markdown",
      "metadata": {
        "id": "p_wYppbCYcAb"
      },
      "source": [
        "### Read Dataset"
      ]
    },
    {
      "cell_type": "code",
      "execution_count": null,
      "metadata": {
        "id": "bU29IupsYcAb",
        "colab": {
          "base_uri": "https://localhost:8080/"
        },
        "outputId": "b8ffd3ff-06fd-4300-8835-95c08f0cb119"
      },
      "outputs": [
        {
          "output_type": "execute_result",
          "data": {
            "text/plain": [
              "Index(['RowNumber', 'CustomerId', 'Geography', 'Gender', 'Age', 'Tenure',\n",
              "       'Balance', 'NumOfProducts', 'HasCrCard', 'IsActiveMember',\n",
              "       'EstimatedSalary', 'Exited'],\n",
              "      dtype='object')"
            ]
          },
          "metadata": {},
          "execution_count": 2
        }
      ],
      "source": [
        "df = pd.read_csv('https://raw.githubusercontent.com/Rietaros/kampus_merdeka/main/SC_HW1_bank_data.csv')\n",
        "df.columns"
      ]
    },
    {
      "cell_type": "code",
      "execution_count": null,
      "metadata": {
        "id": "ySBcdpGy4rb3"
      },
      "outputs": [],
      "source": [
        "# TODO: Hilangkan kolom yang tidak relevan untuk pemodelan\n",
        "df = df[['Age', 'Balance', 'NumOfProducts', 'HasCrCard',\n",
        "         'IsActiveMember', 'EstimatedSalary', 'Exited',\n",
        "         'Gender', 'Geography']].copy()"
      ]
    },
    {
      "cell_type": "markdown",
      "metadata": {
        "id": "VAUrcQVIYcAe"
      },
      "source": [
        "### Preprocessing"
      ]
    },
    {
      "cell_type": "code",
      "execution_count": null,
      "metadata": {
        "id": "owVHMXqEYcAe"
      },
      "outputs": [],
      "source": [
        "# TODO: Lakukan One-Hot Encoder untuk data kategorikal, dengan fungsi pd.get_dummies\n",
        "df = pd.get_dummies(df, columns=['Gender', 'Geography'], drop_first=True)"
      ]
    },
    {
      "cell_type": "code",
      "execution_count": null,
      "metadata": {
        "id": "zMNWzfUbYcAf"
      },
      "outputs": [],
      "source": [
        "# TODO: Pisahkan fitur (X) dengan target (Y), dimana Y merujuk ke kolom \"Exited\"\n",
        "X = df.drop('Exited', axis=1)\n",
        "y = df['Exited']"
      ]
    },
    {
      "cell_type": "code",
      "execution_count": null,
      "metadata": {
        "id": "XWfdSiCxYcAg"
      },
      "outputs": [],
      "source": [
        "scaler = MinMaxScaler() # TODO: Lakukan scaling atau normalisasi\n",
        "X_transform = scaler.fit_transform(X)"
      ]
    },
    {
      "cell_type": "code",
      "execution_count": null,
      "metadata": {
        "id": "W5u5pH3uYcAg"
      },
      "outputs": [],
      "source": [
        "# Bagian ini digunakan jika Anda melakukan scaling atau normalisasi.\n",
        "# Jika tidak, code ini bisa dilewati dan diganti dengan code yang ada di dalam comment.\n",
        "\n",
        "X_transform = pd.DataFrame(X_transform, columns = X.columns)\n",
        "# X_transform = X.copy()"
      ]
    },
    {
      "cell_type": "markdown",
      "metadata": {
        "id": "4Pi0qKQAYcAh"
      },
      "source": [
        "### Train-Test Split"
      ]
    },
    {
      "cell_type": "code",
      "execution_count": null,
      "metadata": {
        "id": "0RDnybGDYcAh"
      },
      "outputs": [],
      "source": [
        "X_train ,X_test, y_train, y_test = tts(X_transform, y, test_size = 0.25, random_state = 123)"
      ]
    },
    {
      "cell_type": "markdown",
      "metadata": {
        "id": "9PPYhjm3YcAi"
      },
      "source": [
        "### Model #1"
      ]
    },
    {
      "cell_type": "code",
      "execution_count": null,
      "metadata": {
        "id": "uKzHsTMlWnl2"
      },
      "outputs": [],
      "source": [
        "# [ PERTANYAAN ]\n",
        "# TODO: Jelaskan secara singkat model #1 yang Anda gunakan."
      ]
    },
    {
      "cell_type": "markdown",
      "metadata": {
        "id": "HrY74Es9Wnl2"
      },
      "source": [
        "**Extra Trees Classifier**\n",
        "\n",
        "Extra Tree berbeda dari decision tree klasik dalam cara pembuatannya. Saat mencari pemisahan terbaik untuk memisahkan sampel node menjadi dua kelompok, pemisahan acak diambil untuk masing-masing fitur max_features yang dipilih secara acak dan pemisahan terbaik di antara fitur-fitur tersebut dipilih. Untuk akurasi, mirip dengan Random Forest, sering kali lebih cepat dalam pelatihan"
      ]
    },
    {
      "cell_type": "code",
      "execution_count": null,
      "metadata": {
        "id": "bnqFXuCyYcAk",
        "colab": {
          "base_uri": "https://localhost:8080/"
        },
        "outputId": "c9c59960-c04b-4626-bf1b-019f010f0dbd"
      },
      "outputs": [
        {
          "output_type": "execute_result",
          "data": {
            "text/plain": [
              "{'max_depth': 20,\n",
              " 'max_features': 'sqrt',\n",
              " 'min_samples_split': 10,\n",
              " 'n_estimators': 100}"
            ]
          },
          "metadata": {},
          "execution_count": 10
        }
      ],
      "source": [
        "# CONTOH pemanggilan library dan penggunaannya:\n",
        "\n",
        "from sklearn.ensemble import ExtraTreesClassifier\n",
        "\n",
        "# Define the model and parameters\n",
        "model1 = ExtraTreesClassifier()\n",
        "params1 = {\n",
        "    'n_estimators': [100, 200, 300],\n",
        "    'max_features': ['sqrt', 'log2'],\n",
        "    'max_depth': [None, 10, 20, 30],\n",
        "    'min_samples_split': [2, 5, 10]\n",
        "}\n",
        "\n",
        "# Perform hyperparameter tuning\n",
        "grid1 = GridSearchCV(\n",
        "    estimator=model1,\n",
        "    param_grid=params1,\n",
        "    scoring='accuracy',\n",
        "    n_jobs=10,  # Use multiple cores\n",
        "    cv=10  # 10-fold cross-validation\n",
        ")\n",
        "\n",
        "grid1.fit(X_train, y_train)\n",
        "grid1.best_params_"
      ]
    },
    {
      "cell_type": "code",
      "execution_count": null,
      "metadata": {
        "id": "1f32JE8kYcAk",
        "colab": {
          "base_uri": "https://localhost:8080/"
        },
        "outputId": "40e173ed-01bf-4755-db95-d7025e23d4ab"
      },
      "outputs": [
        {
          "output_type": "stream",
          "name": "stdout",
          "text": [
            "              precision    recall  f1-score   support\n",
            "\n",
            "           0       0.88      0.97      0.92      1983\n",
            "           1       0.80      0.48      0.60       517\n",
            "\n",
            "    accuracy                           0.87      2500\n",
            "   macro avg       0.84      0.72      0.76      2500\n",
            "weighted avg       0.86      0.87      0.85      2500\n",
            "\n",
            "\n",
            "[[1922   61]\n",
            " [ 269  248]]\n",
            "\n",
            "0.868\n"
          ]
        }
      ],
      "source": [
        "y_pred1 = grid1.predict(X_test) # TODO: Lakukan evaluasi untuk model #1\n",
        "\n",
        "print(classification_report(y_test,y_pred1))\n",
        "print(\"\")\n",
        "print(confusion_matrix(y_test,y_pred1))\n",
        "print(\"\")\n",
        "print(accuracy_score(y_test, y_pred1))"
      ]
    },
    {
      "cell_type": "markdown",
      "metadata": {
        "id": "QC2bZDEgWnl3"
      },
      "source": [
        "### Model #2"
      ]
    },
    {
      "cell_type": "code",
      "execution_count": null,
      "metadata": {
        "id": "0E-cJCOWWnl3"
      },
      "outputs": [],
      "source": [
        "# [ PERTANYAAN ]\n",
        "# TODO: Jelaskan secara singkat model #2 yang Anda gunakan."
      ]
    },
    {
      "cell_type": "markdown",
      "metadata": {
        "id": "kYG5Aw9lWnl3"
      },
      "source": [
        "**Random Forest**\n",
        "\n",
        "Random Forest adalah algoritma pembelajaran mesin asambel yang menggunakan gabungan beberapa pohon keputusan (decision tree) untuk mengklasifikasi data. Akurasi dari model ini cenderung tinggi dan dapat mengatasi masalah overfitting dengan baik."
      ]
    },
    {
      "cell_type": "code",
      "execution_count": null,
      "metadata": {
        "id": "EogFTpjTWnl3",
        "colab": {
          "base_uri": "https://localhost:8080/"
        },
        "outputId": "342c2487-3b64-4c42-8798-8cab6d2b4546"
      },
      "outputs": [
        {
          "output_type": "stream",
          "name": "stderr",
          "text": [
            "/usr/local/lib/python3.10/dist-packages/numpy/ma/core.py:2820: RuntimeWarning: invalid value encountered in cast\n",
            "  _data = np.array(data, dtype=dtype, copy=copy,\n"
          ]
        },
        {
          "output_type": "execute_result",
          "data": {
            "text/plain": [
              "{'max_depth': 10, 'min_samples_split': 2, 'n_estimators': 100}"
            ]
          },
          "metadata": {},
          "execution_count": 13
        }
      ],
      "source": [
        "# CONTOH pemanggilan library dan penggunaannya:\n",
        "from sklearn.ensemble import RandomForestClassifier\n",
        "\n",
        "# TODO: Pilih salah satu model Machine Learning (ML) dari Scikit-learn\n",
        "model2 = RandomForestClassifier(random_state=123)\n",
        "params2 = {\n",
        "    \"n_estimators\": [50, 100, 200],\n",
        "    \"max_depth\": [10, 20, 30],\n",
        "    \"min_samples_split\": [2, 5, 10]\n",
        "}\n",
        "\n",
        "# OPTIONAL: Lakukan hyperparameter tuning sesuai kebutuhan\n",
        "grid2 = GridSearchCV(\n",
        "    estimator= model2,\n",
        "    param_grid= params2,\n",
        "    scoring = 'accuracy',\n",
        "    n_jobs = 10, # core cpu yang digunakan\n",
        "    cv = 10 # 3-fold cross validation (artinya kita melakukan iterasi model sebanyak 3 kali)\n",
        ")\n",
        "\n",
        "grid2.fit(X_train,y_train)\n",
        "grid2.best_params_"
      ]
    },
    {
      "cell_type": "code",
      "execution_count": null,
      "metadata": {
        "id": "KzYn9-m-Wnl3",
        "colab": {
          "base_uri": "https://localhost:8080/"
        },
        "outputId": "c2e4c9de-fe33-4fd8-dd6f-c8729f39da5a"
      },
      "outputs": [
        {
          "output_type": "stream",
          "name": "stdout",
          "text": [
            "              precision    recall  f1-score   support\n",
            "\n",
            "           0       0.87      0.96      0.92      1983\n",
            "           1       0.77      0.46      0.58       517\n",
            "\n",
            "    accuracy                           0.86      2500\n",
            "   macro avg       0.82      0.71      0.75      2500\n",
            "weighted avg       0.85      0.86      0.85      2500\n",
            "\n",
            "\n",
            "[[1911   72]\n",
            " [ 278  239]]\n",
            "\n",
            "0.86\n"
          ]
        }
      ],
      "source": [
        "y_pred2 = grid2.predict(X_test) # TODO: Lakukan evaluasi untuk model #2\n",
        "\n",
        "print(classification_report(y_test,y_pred2))\n",
        "print(\"\")\n",
        "print(confusion_matrix(y_test,y_pred2))\n",
        "print(\"\")\n",
        "print(accuracy_score(y_test, y_pred2))"
      ]
    },
    {
      "cell_type": "markdown",
      "metadata": {
        "id": "-TGRl-aiWnl3"
      },
      "source": [
        "### Model #3"
      ]
    },
    {
      "cell_type": "code",
      "execution_count": null,
      "metadata": {
        "id": "BLuDtLgUWnl3"
      },
      "outputs": [],
      "source": [
        "# [ PERTANYAAN ]\n",
        "# TODO: Jelaskan secara singkat model #3 yang Anda gunakan."
      ]
    },
    {
      "cell_type": "markdown",
      "metadata": {
        "id": "x-wCM_PrWnl3"
      },
      "source": [
        "**Support Vector Machine (SVM)**\n",
        "\n",
        "SVM adalah algoritma yang mencari hyperplane optimal untuk memisahkan kelas dalam dataset, dengan margin terbesar antara data terdekat dari setiap kelas (support vectors). SVM dapat digunakan untuk klasifikasi linear maupun non-linear dengan bantuan kernel."
      ]
    },
    {
      "cell_type": "code",
      "execution_count": null,
      "metadata": {
        "id": "4SDOvFE0Wnl3",
        "colab": {
          "base_uri": "https://localhost:8080/"
        },
        "outputId": "51fd78ca-b2aa-481e-de1c-b7c8c134bad7"
      },
      "outputs": [
        {
          "output_type": "execute_result",
          "data": {
            "text/plain": [
              "{'C': 10, 'gamma': 'scale', 'kernel': 'rbf'}"
            ]
          },
          "metadata": {},
          "execution_count": 16
        }
      ],
      "source": [
        "# CONTOH pemanggilan library dan penggunaannya:\n",
        "\n",
        "from sklearn.svm import SVC\n",
        "\n",
        "# TODO: Pilih salah satu model Machine Learning (ML) dari Scikit-learn\n",
        "model3 = SVC(random_state=123)\n",
        "params3 = {\n",
        "    \"C\": [0.1, 1, 10],\n",
        "    \"kernel\": ['linear', 'rbf', 'poly'],\n",
        "    \"gamma\": ['scale', 'auto']\n",
        "}\n",
        "\n",
        "# OPTIONAL: Lakukan hyperparameter tuning sesuai kebutuhan\n",
        "grid3 = GridSearchCV(\n",
        "    estimator= model3,\n",
        "    param_grid= params3,\n",
        "    scoring = 'accuracy',\n",
        "    n_jobs = 10, # core cpu yang digunakan\n",
        "    cv = 10 # 3-fold cross validation (artinya kita melakukan iterasi model sebanyak 3 kali)\n",
        ")\n",
        "\n",
        "grid3.fit(X_train,y_train)\n",
        "grid3.best_params_"
      ]
    },
    {
      "cell_type": "code",
      "execution_count": null,
      "metadata": {
        "id": "zpIgSaUMWnl3",
        "colab": {
          "base_uri": "https://localhost:8080/"
        },
        "outputId": "a45fb551-711f-4bc5-b8ef-1379ba1dcf6d"
      },
      "outputs": [
        {
          "output_type": "stream",
          "name": "stdout",
          "text": [
            "              precision    recall  f1-score   support\n",
            "\n",
            "           0       0.86      0.98      0.92      1983\n",
            "           1       0.82      0.41      0.55       517\n",
            "\n",
            "    accuracy                           0.86      2500\n",
            "   macro avg       0.84      0.69      0.73      2500\n",
            "weighted avg       0.86      0.86      0.84      2500\n",
            "\n",
            "\n",
            "[[1938   45]\n",
            " [ 306  211]]\n",
            "\n",
            "0.8596\n"
          ]
        }
      ],
      "source": [
        "y_pred3 = grid3.predict(X_test) # TODO: Lakukan evaluasi untuk model #3\n",
        "\n",
        "print(classification_report(y_test,y_pred3))\n",
        "print(\"\")\n",
        "print(confusion_matrix(y_test,y_pred3))\n",
        "print(\"\")\n",
        "print(accuracy_score(y_test, y_pred3))"
      ]
    },
    {
      "cell_type": "markdown",
      "metadata": {
        "id": "ajeN7rYVWnl3"
      },
      "source": [
        "### Conclusion"
      ]
    },
    {
      "cell_type": "code",
      "execution_count": null,
      "metadata": {
        "id": "A2ZRjrxbWnl3"
      },
      "outputs": [],
      "source": [
        "# [ PERTANYAAN ]\n",
        "# TODO: Tarik kesimpulan model mana yang terbaik beserta alasannya"
      ]
    },
    {
      "cell_type": "markdown",
      "metadata": {
        "id": "n5Z3OQN54rb-"
      },
      "source": [
        "\n",
        "**Alasan Memilih Model Terbaik:**\n",
        "\n",
        "Setelah melakukan evaluasi terhadap tiga model yang berbeda, kita dapat melihat hasil dari metrik evaluasi (accuracy, precision, recall, F1-score). Model dengan akurasi tertinggi dan metrik yang lebih seimbang dipilih sebagai yang terbaik. Faktor yang dipertimbangkan dalam memilih model terbaik termasuk performa di data uji, kompleksitas model, serta interpretasi yang lebih baik.\n",
        "\n",
        "- Random Forest sering kali lebih stabil dibandingkan dengan model lain, karena menggunakan beberapa pohon keputusan dan menggabungkan hasilnya, mengurangi kemungkinan overfitting.\n",
        "- Random Forest dan SVM memiliki kemampuan yang baik dalam menangani data kategorikal dan numerik tanpa memerlukan banyak preprocessing.\n",
        "- Jika salah satu model memiliki akurasi dan nilai F1 yang lebih tinggi, ini menandakan model tersebut lebih baik dalam melakukan prediksi pada dataset ini.\n",
        "\n",
        "**Kesimpulan:**\n",
        "\n",
        "Model Random Forest memberikan hasil akurasi tertinggi dan hasil yang stabil dibandingkan dengan Extratree dan SVM. Bisa dikatakan sebagai model terbaik karena interpretasinya yang lebih mudah dan lebih cocok untuk kasus di mana probabilitas keanggotaan kelas lebih penting. Random Forest juga lebih unggul dalam meminimalkan kesalahan prediksi pada dataset ini, memberikan kestabilan lebih dalam hasil dan meningkatkan generalisasi model."
      ]
    },
    {
      "cell_type": "markdown",
      "metadata": {
        "id": "Kd8Td1YsV23w"
      },
      "source": [
        "### Scoring\n",
        "Total `#TODO` = 13\n",
        "<br>Checklist:\n",
        "\n",
        "- [x] Hilangkan kolom yang tidak relevan untuk pemodelan\n",
        "- [x] Lakukan One-Hot Encoder untuk data kategorikal, dengan fungsi pd.get_dummies\n",
        "- [x] Pisahkan fitur (X) dengan target (Y), dimana Y merujuk ke kolom \"Exited\"\n",
        "- [x] Lakukan scaling atau normalisasi\n",
        "- [x] Jelaskan secara singkat model #1 yang Anda gunakan\n",
        "- [x] Pilih salah satu model Machine Learning (ML) dari Scikit-learn (model #1)\n",
        "- [x] Lakukan evaluasi untuk model #1\n",
        "- [x] Jelaskan secara singkat model #2 yang Anda gunakan\n",
        "- [x] Pilih salah satu model Machine Learning (ML) dari Scikit-learn (model #2)\n",
        "- [x] Lakukan evaluasi untuk model #2\n",
        "- [x] Jelaskan secara singkat model #3 yang Anda gunakan\n",
        "- [x] Pilih salah satu model Machine Learning (ML) dari Scikit-learn (model #3)\n",
        "- [x] Lakukan evaluasi untuk model #3"
      ]
    },
    {
      "cell_type": "markdown",
      "metadata": {
        "id": "nu54eCVrV23w"
      },
      "source": [
        "### Additional readings\n",
        "- N/A"
      ]
    },
    {
      "cell_type": "markdown",
      "metadata": {
        "id": "8lozabSPV23w"
      },
      "source": [
        "### Copyright © 2024 Startup Campus, Indonesia\n",
        "* You may **NOT** use this file except there is written permission from PT. Kampus Merdeka Belajar (Startup Campus).\n",
        "* Please address your questions to mentors."
      ]
    }
  ],
  "metadata": {
    "colab": {
      "provenance": [],
      "include_colab_link": true
    },
    "kernelspec": {
      "display_name": "Python 3 (ipykernel)",
      "language": "python",
      "name": "python3"
    },
    "language_info": {
      "codemirror_mode": {
        "name": "ipython",
        "version": 3
      },
      "file_extension": ".py",
      "mimetype": "text/x-python",
      "name": "python",
      "nbconvert_exporter": "python",
      "pygments_lexer": "ipython3",
      "version": "3.11.9"
    },
    "toc-autonumbering": true,
    "toc-showcode": false,
    "toc-showmarkdowntxt": false
  },
  "nbformat": 4,
  "nbformat_minor": 0
}